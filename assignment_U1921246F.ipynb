{
 "cells": [
  {
   "cell_type": "markdown",
   "metadata": {},
   "source": [
    "# CZ1016 : Assignment (Spam Detection for Text Messages)"
   ]
  },
  {
   "cell_type": "code",
   "execution_count": 1,
   "metadata": {},
   "outputs": [
    {
     "name": "stderr",
     "output_type": "stream",
     "text": [
      "[nltk_data] Downloading package stopwords to\n",
      "[nltk_data]     C:\\Users\\User\\AppData\\Roaming\\nltk_data...\n",
      "[nltk_data]   Package stopwords is already up-to-date!\n"
     ]
    },
    {
     "data": {
      "text/plain": [
       "True"
      ]
     },
     "execution_count": 1,
     "metadata": {},
     "output_type": "execute_result"
    }
   ],
   "source": [
    "# Basic Libraries\n",
    "import numpy as np\n",
    "import pandas as pd\n",
    "import seaborn as sb\n",
    "import matplotlib.pyplot as plt # we only need pyplot\n",
    "import nltk\n",
    "from nltk.corpus import stopwords\n",
    "import string\n",
    "sb.set() # set the default Seaborn style for graphics\n",
    "from sklearn.model_selection import train_test_split\n",
    "from sklearn.tree import DecisionTreeClassifier\n",
    "from sklearn.metrics import confusion_matrix\n",
    "#convert the text into a matrix of token counts\n",
    "from sklearn.feature_extraction.text import CountVectorizer\n",
    "from sklearn.ensemble import RandomForestClassifier\n",
    "\n",
    "#download stopwords from nltk\n",
    "nltk.download('stopwords')"
   ]
  },
  {
   "cell_type": "markdown",
   "metadata": {},
   "source": [
    "## First, import the SMS Data file"
   ]
  },
  {
   "cell_type": "code",
   "execution_count": 2,
   "metadata": {},
   "outputs": [
    {
     "data": {
      "text/html": [
       "<div>\n",
       "<style scoped>\n",
       "    .dataframe tbody tr th:only-of-type {\n",
       "        vertical-align: middle;\n",
       "    }\n",
       "\n",
       "    .dataframe tbody tr th {\n",
       "        vertical-align: top;\n",
       "    }\n",
       "\n",
       "    .dataframe thead th {\n",
       "        text-align: right;\n",
       "    }\n",
       "</style>\n",
       "<table border=\"1\" class=\"dataframe\">\n",
       "  <thead>\n",
       "    <tr style=\"text-align: right;\">\n",
       "      <th></th>\n",
       "      <th>0</th>\n",
       "      <th>1</th>\n",
       "    </tr>\n",
       "  </thead>\n",
       "  <tbody>\n",
       "    <tr>\n",
       "      <td>0</td>\n",
       "      <td>good</td>\n",
       "      <td>Go until jurong point, crazy.. Available only ...</td>\n",
       "    </tr>\n",
       "    <tr>\n",
       "      <td>1</td>\n",
       "      <td>good</td>\n",
       "      <td>Ok lar... Joking wif u oni...</td>\n",
       "    </tr>\n",
       "    <tr>\n",
       "      <td>2</td>\n",
       "      <td>spam</td>\n",
       "      <td>Free entry in 2 a wkly comp to win FA Cup fina...</td>\n",
       "    </tr>\n",
       "    <tr>\n",
       "      <td>3</td>\n",
       "      <td>good</td>\n",
       "      <td>U dun say so early hor... U c already then say...</td>\n",
       "    </tr>\n",
       "    <tr>\n",
       "      <td>4</td>\n",
       "      <td>good</td>\n",
       "      <td>Nah I don't think he goes to usf, he lives aro...</td>\n",
       "    </tr>\n",
       "  </tbody>\n",
       "</table>\n",
       "</div>"
      ],
      "text/plain": [
       "      0                                                  1\n",
       "0  good  Go until jurong point, crazy.. Available only ...\n",
       "1  good                      Ok lar... Joking wif u oni...\n",
       "2  spam  Free entry in 2 a wkly comp to win FA Cup fina...\n",
       "3  good  U dun say so early hor... U c already then say...\n",
       "4  good  Nah I don't think he goes to usf, he lives aro..."
      ]
     },
     "execution_count": 2,
     "metadata": {},
     "output_type": "execute_result"
    }
   ],
   "source": [
    "# Read the dataset as per the format\n",
    "# response label <tab> sms as string\n",
    "smsData = pd.read_table('text_data.txt', sep = \"\\t\", header = None)\n",
    "smsData.head()"
   ]
  },
  {
   "cell_type": "code",
   "execution_count": 3,
   "metadata": {},
   "outputs": [
    {
     "data": {
      "text/html": [
       "<div>\n",
       "<style scoped>\n",
       "    .dataframe tbody tr th:only-of-type {\n",
       "        vertical-align: middle;\n",
       "    }\n",
       "\n",
       "    .dataframe tbody tr th {\n",
       "        vertical-align: top;\n",
       "    }\n",
       "\n",
       "    .dataframe thead th {\n",
       "        text-align: right;\n",
       "    }\n",
       "</style>\n",
       "<table border=\"1\" class=\"dataframe\">\n",
       "  <thead>\n",
       "    <tr style=\"text-align: right;\">\n",
       "      <th></th>\n",
       "      <th>label</th>\n",
       "      <th>text</th>\n",
       "    </tr>\n",
       "  </thead>\n",
       "  <tbody>\n",
       "    <tr>\n",
       "      <td>0</td>\n",
       "      <td>good</td>\n",
       "      <td>Go until jurong point, crazy.. Available only ...</td>\n",
       "    </tr>\n",
       "    <tr>\n",
       "      <td>1</td>\n",
       "      <td>good</td>\n",
       "      <td>Ok lar... Joking wif u oni...</td>\n",
       "    </tr>\n",
       "    <tr>\n",
       "      <td>2</td>\n",
       "      <td>spam</td>\n",
       "      <td>Free entry in 2 a wkly comp to win FA Cup fina...</td>\n",
       "    </tr>\n",
       "    <tr>\n",
       "      <td>3</td>\n",
       "      <td>good</td>\n",
       "      <td>U dun say so early hor... U c already then say...</td>\n",
       "    </tr>\n",
       "    <tr>\n",
       "      <td>4</td>\n",
       "      <td>good</td>\n",
       "      <td>Nah I don't think he goes to usf, he lives aro...</td>\n",
       "    </tr>\n",
       "  </tbody>\n",
       "</table>\n",
       "</div>"
      ],
      "text/plain": [
       "  label                                               text\n",
       "0  good  Go until jurong point, crazy.. Available only ...\n",
       "1  good                      Ok lar... Joking wif u oni...\n",
       "2  spam  Free entry in 2 a wkly comp to win FA Cup fina...\n",
       "3  good  U dun say so early hor... U c already then say...\n",
       "4  good  Nah I don't think he goes to usf, he lives aro..."
      ]
     },
     "execution_count": 3,
     "metadata": {},
     "output_type": "execute_result"
    }
   ],
   "source": [
    "# Fix the headers / column labels\n",
    "smsData.columns = [\"label\", \"text\"]\n",
    "smsData.head()"
   ]
  },
  {
   "cell_type": "code",
   "execution_count": 4,
   "metadata": {},
   "outputs": [
    {
     "name": "stdout",
     "output_type": "stream",
     "text": [
      "<class 'pandas.core.frame.DataFrame'>\n",
      "RangeIndex: 5572 entries, 0 to 5571\n",
      "Data columns (total 2 columns):\n",
      "label    5572 non-null object\n",
      "text     5572 non-null object\n",
      "dtypes: object(2)\n",
      "memory usage: 87.2+ KB\n"
     ]
    }
   ],
   "source": [
    "# Basic information about the data\n",
    "smsData.info()"
   ]
  },
  {
   "cell_type": "markdown",
   "metadata": {},
   "source": [
    "So our data contains 5572 rows and 2 columns, with no null entries. "
   ]
  },
  {
   "cell_type": "code",
   "execution_count": 5,
   "metadata": {},
   "outputs": [
    {
     "data": {
      "text/plain": [
       "label    object\n",
       "text     object\n",
       "dtype: object"
      ]
     },
     "execution_count": 5,
     "metadata": {},
     "output_type": "execute_result"
    }
   ],
   "source": [
    "#checking what type of data are in smsData\n",
    "smsData.dtypes"
   ]
  },
  {
   "cell_type": "markdown",
   "metadata": {},
   "source": [
    "## Getting rid of duplicates"
   ]
  },
  {
   "cell_type": "markdown",
   "metadata": {},
   "source": [
    "Given that 5572 messages are in this data, there is a possibility that some might just be duplicated. Hence, it would be better to confirm if there are duplicates and if so, get rid of them."
   ]
  },
  {
   "cell_type": "code",
   "execution_count": 6,
   "metadata": {},
   "outputs": [
    {
     "data": {
      "text/plain": [
       "(5158, 2)"
      ]
     },
     "execution_count": 6,
     "metadata": {},
     "output_type": "execute_result"
    }
   ],
   "source": [
    "#Let's check if there are any duplicated messages\n",
    "smsData.drop_duplicates(inplace = True)\n",
    "\n",
    "#check if any entries were deleted\n",
    "smsData.shape"
   ]
  },
  {
   "cell_type": "markdown",
   "metadata": {},
   "source": [
    "Wow, so there were many duplicates and now we have eliminated them to have 5158 unique messages. "
   ]
  },
  {
   "cell_type": "markdown",
   "metadata": {},
   "source": [
    "## Working with a clean sheet\n",
    "In order to preserve the integrity of the original data file, I will be using a copy of it to classify messages between 'good' and 'spam'. "
   ]
  },
  {
   "cell_type": "code",
   "execution_count": 7,
   "metadata": {},
   "outputs": [
    {
     "data": {
      "text/html": [
       "<div>\n",
       "<style scoped>\n",
       "    .dataframe tbody tr th:only-of-type {\n",
       "        vertical-align: middle;\n",
       "    }\n",
       "\n",
       "    .dataframe tbody tr th {\n",
       "        vertical-align: top;\n",
       "    }\n",
       "\n",
       "    .dataframe thead th {\n",
       "        text-align: right;\n",
       "    }\n",
       "</style>\n",
       "<table border=\"1\" class=\"dataframe\">\n",
       "  <thead>\n",
       "    <tr style=\"text-align: right;\">\n",
       "      <th></th>\n",
       "      <th>text</th>\n",
       "      <th>label</th>\n",
       "    </tr>\n",
       "  </thead>\n",
       "  <tbody>\n",
       "    <tr>\n",
       "      <td>0</td>\n",
       "      <td>Go until jurong point, crazy.. Available only ...</td>\n",
       "      <td>good</td>\n",
       "    </tr>\n",
       "    <tr>\n",
       "      <td>1</td>\n",
       "      <td>Ok lar... Joking wif u oni...</td>\n",
       "      <td>good</td>\n",
       "    </tr>\n",
       "    <tr>\n",
       "      <td>2</td>\n",
       "      <td>Free entry in 2 a wkly comp to win FA Cup fina...</td>\n",
       "      <td>spam</td>\n",
       "    </tr>\n",
       "    <tr>\n",
       "      <td>3</td>\n",
       "      <td>U dun say so early hor... U c already then say...</td>\n",
       "      <td>good</td>\n",
       "    </tr>\n",
       "    <tr>\n",
       "      <td>4</td>\n",
       "      <td>Nah I don't think he goes to usf, he lives aro...</td>\n",
       "      <td>good</td>\n",
       "    </tr>\n",
       "    <tr>\n",
       "      <td>...</td>\n",
       "      <td>...</td>\n",
       "      <td>...</td>\n",
       "    </tr>\n",
       "    <tr>\n",
       "      <td>5567</td>\n",
       "      <td>This is the 2nd time we have tried 2 contact u...</td>\n",
       "      <td>spam</td>\n",
       "    </tr>\n",
       "    <tr>\n",
       "      <td>5568</td>\n",
       "      <td>Will ü b going to esplanade fr home?</td>\n",
       "      <td>good</td>\n",
       "    </tr>\n",
       "    <tr>\n",
       "      <td>5569</td>\n",
       "      <td>Pity, * was in mood for that. So...any other s...</td>\n",
       "      <td>good</td>\n",
       "    </tr>\n",
       "    <tr>\n",
       "      <td>5570</td>\n",
       "      <td>The guy did some bitching but I acted like i'd...</td>\n",
       "      <td>good</td>\n",
       "    </tr>\n",
       "    <tr>\n",
       "      <td>5571</td>\n",
       "      <td>Rofl. Its true to its name</td>\n",
       "      <td>good</td>\n",
       "    </tr>\n",
       "  </tbody>\n",
       "</table>\n",
       "<p>5158 rows × 2 columns</p>\n",
       "</div>"
      ],
      "text/plain": [
       "                                                   text label\n",
       "0     Go until jurong point, crazy.. Available only ...  good\n",
       "1                         Ok lar... Joking wif u oni...  good\n",
       "2     Free entry in 2 a wkly comp to win FA Cup fina...  spam\n",
       "3     U dun say so early hor... U c already then say...  good\n",
       "4     Nah I don't think he goes to usf, he lives aro...  good\n",
       "...                                                 ...   ...\n",
       "5567  This is the 2nd time we have tried 2 contact u...  spam\n",
       "5568               Will ü b going to esplanade fr home?  good\n",
       "5569  Pity, * was in mood for that. So...any other s...  good\n",
       "5570  The guy did some bitching but I acted like i'd...  good\n",
       "5571                         Rofl. Its true to its name  good\n",
       "\n",
       "[5158 rows x 2 columns]"
      ]
     },
     "execution_count": 7,
     "metadata": {},
     "output_type": "execute_result"
    }
   ],
   "source": [
    "#create clean copy of smsData\n",
    "smsDD_k = smsData.copy()\n",
    "\n",
    "#rearrange the columns\n",
    "cols = smsDD_k.columns.tolist()\n",
    "cols = cols[-1:] + cols[:-1]\n",
    "smsDD_k = smsDD_k[cols]\n",
    "smsDD_k"
   ]
  },
  {
   "cell_type": "code",
   "execution_count": 8,
   "metadata": {},
   "outputs": [
    {
     "data": {
      "text/plain": [
       "good    4516\n",
       "spam     642\n",
       "Name: label, dtype: int64"
      ]
     },
     "execution_count": 8,
     "metadata": {},
     "output_type": "execute_result"
    }
   ],
   "source": [
    "#check the no. of good vs spam\n",
    "smsDD_k[\"label\"].value_counts()"
   ]
  },
  {
   "cell_type": "markdown",
   "metadata": {},
   "source": [
    "## Comparing character count of 'good' texts and 'spam' texts"
   ]
  },
  {
   "cell_type": "code",
   "execution_count": 9,
   "metadata": {},
   "outputs": [
    {
     "data": {
      "text/html": [
       "<div>\n",
       "<style scoped>\n",
       "    .dataframe tbody tr th:only-of-type {\n",
       "        vertical-align: middle;\n",
       "    }\n",
       "\n",
       "    .dataframe tbody tr th {\n",
       "        vertical-align: top;\n",
       "    }\n",
       "\n",
       "    .dataframe thead th {\n",
       "        text-align: right;\n",
       "    }\n",
       "</style>\n",
       "<table border=\"1\" class=\"dataframe\">\n",
       "  <thead>\n",
       "    <tr style=\"text-align: right;\">\n",
       "      <th></th>\n",
       "      <th>text</th>\n",
       "      <th>label</th>\n",
       "      <th>Char Count</th>\n",
       "    </tr>\n",
       "  </thead>\n",
       "  <tbody>\n",
       "    <tr>\n",
       "      <td>0</td>\n",
       "      <td>Go until jurong point, crazy.. Available only ...</td>\n",
       "      <td>good</td>\n",
       "      <td>111</td>\n",
       "    </tr>\n",
       "    <tr>\n",
       "      <td>1</td>\n",
       "      <td>Ok lar... Joking wif u oni...</td>\n",
       "      <td>good</td>\n",
       "      <td>29</td>\n",
       "    </tr>\n",
       "    <tr>\n",
       "      <td>2</td>\n",
       "      <td>Free entry in 2 a wkly comp to win FA Cup fina...</td>\n",
       "      <td>spam</td>\n",
       "      <td>155</td>\n",
       "    </tr>\n",
       "    <tr>\n",
       "      <td>3</td>\n",
       "      <td>U dun say so early hor... U c already then say...</td>\n",
       "      <td>good</td>\n",
       "      <td>49</td>\n",
       "    </tr>\n",
       "    <tr>\n",
       "      <td>4</td>\n",
       "      <td>Nah I don't think he goes to usf, he lives aro...</td>\n",
       "      <td>good</td>\n",
       "      <td>61</td>\n",
       "    </tr>\n",
       "    <tr>\n",
       "      <td>...</td>\n",
       "      <td>...</td>\n",
       "      <td>...</td>\n",
       "      <td>...</td>\n",
       "    </tr>\n",
       "    <tr>\n",
       "      <td>5567</td>\n",
       "      <td>This is the 2nd time we have tried 2 contact u...</td>\n",
       "      <td>spam</td>\n",
       "      <td>160</td>\n",
       "    </tr>\n",
       "    <tr>\n",
       "      <td>5568</td>\n",
       "      <td>Will ü b going to esplanade fr home?</td>\n",
       "      <td>good</td>\n",
       "      <td>36</td>\n",
       "    </tr>\n",
       "    <tr>\n",
       "      <td>5569</td>\n",
       "      <td>Pity, * was in mood for that. So...any other s...</td>\n",
       "      <td>good</td>\n",
       "      <td>57</td>\n",
       "    </tr>\n",
       "    <tr>\n",
       "      <td>5570</td>\n",
       "      <td>The guy did some bitching but I acted like i'd...</td>\n",
       "      <td>good</td>\n",
       "      <td>125</td>\n",
       "    </tr>\n",
       "    <tr>\n",
       "      <td>5571</td>\n",
       "      <td>Rofl. Its true to its name</td>\n",
       "      <td>good</td>\n",
       "      <td>26</td>\n",
       "    </tr>\n",
       "  </tbody>\n",
       "</table>\n",
       "<p>5158 rows × 3 columns</p>\n",
       "</div>"
      ],
      "text/plain": [
       "                                                   text label  Char Count\n",
       "0     Go until jurong point, crazy.. Available only ...  good         111\n",
       "1                         Ok lar... Joking wif u oni...  good          29\n",
       "2     Free entry in 2 a wkly comp to win FA Cup fina...  spam         155\n",
       "3     U dun say so early hor... U c already then say...  good          49\n",
       "4     Nah I don't think he goes to usf, he lives aro...  good          61\n",
       "...                                                 ...   ...         ...\n",
       "5567  This is the 2nd time we have tried 2 contact u...  spam         160\n",
       "5568               Will ü b going to esplanade fr home?  good          36\n",
       "5569  Pity, * was in mood for that. So...any other s...  good          57\n",
       "5570  The guy did some bitching but I acted like i'd...  good         125\n",
       "5571                         Rofl. Its true to its name  good          26\n",
       "\n",
       "[5158 rows x 3 columns]"
      ]
     },
     "execution_count": 9,
     "metadata": {},
     "output_type": "execute_result"
    }
   ],
   "source": [
    "#getting the word counts of each entry\n",
    "smsDD_k[\"Char Count\"] = smsDD_k['text'].apply(len)\n",
    "smsDD_k"
   ]
  },
  {
   "cell_type": "code",
   "execution_count": 27,
   "metadata": {},
   "outputs": [],
   "source": [
    "#let's create a function that process the messages under column 'text'\n",
    "def process_msg(text):\n",
    "    #1 remove all punctuations nad white spaces\n",
    "    text = text.strip()\n",
    "    nopunk = [char for char in text if char not in string.punctuation]\n",
    "    nopunk = ''.join(nopunk)\n",
    "    \n",
    "    #2 lemmatise message\n",
    "    lemon = nltk.stem.WordNetLemmatizer()\n",
    "    lemon_msg = lemon.lemmatize(nopunk, pos='v')\n",
    "    \n",
    "    #stemmatise message\n",
    "    stemm = nltk.stem.PorterStemmer()\n",
    "    stemm_msg = stemm.stem(lemon_msg)\n",
    "\n",
    "    #return list of clean words\n",
    "    return stemm_msg"
   ]
  },
  {
   "cell_type": "code",
   "execution_count": 28,
   "metadata": {},
   "outputs": [
    {
     "data": {
      "text/plain": [
       "0    go until jurong point crazy available only in ...\n",
       "1                              ok lar joking wif u oni\n",
       "2    free entry in 2 a wkly comp to win fa cup fina...\n",
       "3          u dun say so early hor u c already then say\n",
       "4    nah i dont think he goes to usf he lives aroun...\n",
       "Name: text, dtype: object"
      ]
     },
     "execution_count": 28,
     "metadata": {},
     "output_type": "execute_result"
    }
   ],
   "source": [
    "#let's look at the tokenisation of our messages\n",
    "smsDD_k['text'].head().apply(process_msg)"
   ]
  },
  {
   "cell_type": "code",
   "execution_count": 29,
   "metadata": {},
   "outputs": [],
   "source": [
    "#let's create a function that process the messages under column 'text' and return number of clean words\n",
    "def clean_words(text):\n",
    "    nopunk = [char for char in text if char not in string.punctuation]\n",
    "    nopunk = ''.join(nopunk)\n",
    "    clean_w = [word for word in nopunk.split() if word.lower() not in \n",
    "               stopwords.words('english')]\n",
    "\n",
    "    num_words = len(clean_w)\n",
    "    return num_words"
   ]
  },
  {
   "cell_type": "code",
   "execution_count": 16,
   "metadata": {},
   "outputs": [],
   "source": [
    "#obtaining number of clean words in each sentence of text\n",
    "num_words = smsDD_k['text'].apply(clean_words)"
   ]
  },
  {
   "cell_type": "code",
   "execution_count": 17,
   "metadata": {},
   "outputs": [],
   "source": [
    "#concatenating clean word count to the smsDD_k dataframe\n",
    "num_words = pd.DataFrame(num_words)\n",
    "num_words.columns=[\"Word Count\"]\n",
    "smsDD_k = pd.concat([smsDD_k, num_words.reindex(index=smsDD_k.index)], axis=1, sort=False)"
   ]
  },
  {
   "cell_type": "code",
   "execution_count": 18,
   "metadata": {},
   "outputs": [
    {
     "data": {
      "text/html": [
       "<div>\n",
       "<style scoped>\n",
       "    .dataframe tbody tr th:only-of-type {\n",
       "        vertical-align: middle;\n",
       "    }\n",
       "\n",
       "    .dataframe tbody tr th {\n",
       "        vertical-align: top;\n",
       "    }\n",
       "\n",
       "    .dataframe thead th {\n",
       "        text-align: right;\n",
       "    }\n",
       "</style>\n",
       "<table border=\"1\" class=\"dataframe\">\n",
       "  <thead>\n",
       "    <tr style=\"text-align: right;\">\n",
       "      <th></th>\n",
       "      <th>text</th>\n",
       "      <th>label</th>\n",
       "      <th>Char Count</th>\n",
       "      <th>Word Count</th>\n",
       "    </tr>\n",
       "  </thead>\n",
       "  <tbody>\n",
       "    <tr>\n",
       "      <td>0</td>\n",
       "      <td>Go until jurong point, crazy.. Available only ...</td>\n",
       "      <td>good</td>\n",
       "      <td>111</td>\n",
       "      <td>16</td>\n",
       "    </tr>\n",
       "    <tr>\n",
       "      <td>1</td>\n",
       "      <td>Ok lar... Joking wif u oni...</td>\n",
       "      <td>good</td>\n",
       "      <td>29</td>\n",
       "      <td>6</td>\n",
       "    </tr>\n",
       "    <tr>\n",
       "      <td>2</td>\n",
       "      <td>Free entry in 2 a wkly comp to win FA Cup fina...</td>\n",
       "      <td>spam</td>\n",
       "      <td>155</td>\n",
       "      <td>23</td>\n",
       "    </tr>\n",
       "    <tr>\n",
       "      <td>3</td>\n",
       "      <td>U dun say so early hor... U c already then say...</td>\n",
       "      <td>good</td>\n",
       "      <td>49</td>\n",
       "      <td>9</td>\n",
       "    </tr>\n",
       "    <tr>\n",
       "      <td>4</td>\n",
       "      <td>Nah I don't think he goes to usf, he lives aro...</td>\n",
       "      <td>good</td>\n",
       "      <td>61</td>\n",
       "      <td>8</td>\n",
       "    </tr>\n",
       "    <tr>\n",
       "      <td>...</td>\n",
       "      <td>...</td>\n",
       "      <td>...</td>\n",
       "      <td>...</td>\n",
       "      <td>...</td>\n",
       "    </tr>\n",
       "    <tr>\n",
       "      <td>5567</td>\n",
       "      <td>This is the 2nd time we have tried 2 contact u...</td>\n",
       "      <td>spam</td>\n",
       "      <td>160</td>\n",
       "      <td>20</td>\n",
       "    </tr>\n",
       "    <tr>\n",
       "      <td>5568</td>\n",
       "      <td>Will ü b going to esplanade fr home?</td>\n",
       "      <td>good</td>\n",
       "      <td>36</td>\n",
       "      <td>6</td>\n",
       "    </tr>\n",
       "    <tr>\n",
       "      <td>5569</td>\n",
       "      <td>Pity, * was in mood for that. So...any other s...</td>\n",
       "      <td>good</td>\n",
       "      <td>57</td>\n",
       "      <td>4</td>\n",
       "    </tr>\n",
       "    <tr>\n",
       "      <td>5570</td>\n",
       "      <td>The guy did some bitching but I acted like i'd...</td>\n",
       "      <td>good</td>\n",
       "      <td>125</td>\n",
       "      <td>14</td>\n",
       "    </tr>\n",
       "    <tr>\n",
       "      <td>5571</td>\n",
       "      <td>Rofl. Its true to its name</td>\n",
       "      <td>good</td>\n",
       "      <td>26</td>\n",
       "      <td>3</td>\n",
       "    </tr>\n",
       "  </tbody>\n",
       "</table>\n",
       "<p>5158 rows × 4 columns</p>\n",
       "</div>"
      ],
      "text/plain": [
       "                                                   text label  Char Count  \\\n",
       "0     Go until jurong point, crazy.. Available only ...  good         111   \n",
       "1                         Ok lar... Joking wif u oni...  good          29   \n",
       "2     Free entry in 2 a wkly comp to win FA Cup fina...  spam         155   \n",
       "3     U dun say so early hor... U c already then say...  good          49   \n",
       "4     Nah I don't think he goes to usf, he lives aro...  good          61   \n",
       "...                                                 ...   ...         ...   \n",
       "5567  This is the 2nd time we have tried 2 contact u...  spam         160   \n",
       "5568               Will ü b going to esplanade fr home?  good          36   \n",
       "5569  Pity, * was in mood for that. So...any other s...  good          57   \n",
       "5570  The guy did some bitching but I acted like i'd...  good         125   \n",
       "5571                         Rofl. Its true to its name  good          26   \n",
       "\n",
       "      Word Count  \n",
       "0             16  \n",
       "1              6  \n",
       "2             23  \n",
       "3              9  \n",
       "4              8  \n",
       "...          ...  \n",
       "5567          20  \n",
       "5568           6  \n",
       "5569           4  \n",
       "5570          14  \n",
       "5571           3  \n",
       "\n",
       "[5158 rows x 4 columns]"
      ]
     },
     "execution_count": 18,
     "metadata": {},
     "output_type": "execute_result"
    }
   ],
   "source": [
    "smsDD_k"
   ]
  },
  {
   "cell_type": "code",
   "execution_count": null,
   "metadata": {},
   "outputs": [],
   "source": []
  },
  {
   "cell_type": "code",
   "execution_count": 76,
   "metadata": {},
   "outputs": [
    {
     "name": "stdout",
     "output_type": "stream",
     "text": [
      "Dimension of sms_bow data:  (5158, 62)\n"
     ]
    }
   ],
   "source": [
    "#Let's make a matrix of tokens for our smsdata (our bag of words)\n",
    "count = CountVectorizer(analyzer=process_msg)\n",
    "sms_bow = count.fit_transform(smsDD_k['text'])\n",
    "\n",
    "#check dimension of sms_bow\n",
    "print(\"Dimension of sms_bow data: \",sms_bow.shape)"
   ]
  },
  {
   "cell_type": "code",
   "execution_count": 77,
   "metadata": {},
   "outputs": [
    {
     "name": "stdout",
     "output_type": "stream",
     "text": [
      "<class 'scipy.sparse.csr.csr_matrix'>\n"
     ]
    }
   ],
   "source": [
    "#check type of data of smsBOW\n",
    "print(type(sms_bow))"
   ]
  },
  {
   "cell_type": "markdown",
   "metadata": {
    "scrolled": false
   },
   "source": [
    "#### Visualising difference in word count between 'spam' and 'good' texts"
   ]
  },
  {
   "cell_type": "code",
   "execution_count": 20,
   "metadata": {},
   "outputs": [],
   "source": [
    "#separating good from spam\n",
    "good = smsDD_k[smsDD_k['label']=='good']\n",
    "spam = smsDD_k[smsDD_k['label']=='spam']"
   ]
  },
  {
   "cell_type": "code",
   "execution_count": 21,
   "metadata": {},
   "outputs": [
    {
     "data": {
      "text/plain": [
       "<matplotlib.axes._subplots.AxesSubplot at 0x1d5d514f4c8>"
      ]
     },
     "execution_count": 21,
     "metadata": {},
     "output_type": "execute_result"
    },
    {
     "data": {
      "image/png": "[encoded data removed]",
      "text/plain": [
       "<Figure size 1296x576 with 2 Axes>"
      ]
     },
     "metadata": {
      "needs_background": "light"
     },
     "output_type": "display_data"
    }
   ],
   "source": [
    "#visualise character count in boxplot\n",
    "f,axes = plt.subplots(2,1,figsize=(18,8))\n",
    "sb.boxplot(spam[\"Word Count\"], orient = \"h\", color = \"red\", ax = axes[0])\n",
    "sb.boxplot(good[\"Word Count\"], orient = \"h\", color = \"blue\", ax = axes[1])"
   ]
  },
  {
   "cell_type": "code",
   "execution_count": 26,
   "metadata": {},
   "outputs": [
    {
     "name": "stdout",
     "output_type": "stream",
     "text": [
      "Average word count of spam texts:  16.573208722741434\n",
      "Average word count of good texts:  8.24933569530558\n"
     ]
    }
   ],
   "source": [
    "print(\"Average word count of spam texts: \", spam[\"Word Count\"].mean())\n",
    "print(\"Average word count of good texts: \", good[\"Word Count\"].mean())"
   ]
  },
  {
   "cell_type": "markdown",
   "metadata": {},
   "source": [
    "Apparently, the average clean word count of 'spam' texts is 2 times that of 'good' texts. This feature makes a great variable in predicting whether a text is a 'spam' or 'good'. "
   ]
  },
  {
   "cell_type": "markdown",
   "metadata": {},
   "source": [
    "#### Visualising difference in character count between 'spam' and 'good' texts"
   ]
  },
  {
   "cell_type": "code",
   "execution_count": 22,
   "metadata": {},
   "outputs": [
    {
     "data": {
      "text/plain": [
       "<matplotlib.axes._subplots.AxesSubplot at 0x1d5d520ce88>"
      ]
     },
     "execution_count": 22,
     "metadata": {},
     "output_type": "execute_result"
    },
    {
     "data": {
      "image/png": "[encoded data removed]",
      "text/plain": [
       "<Figure size 1296x576 with 2 Axes>"
      ]
     },
     "metadata": {
      "needs_background": "light"
     },
     "output_type": "display_data"
    }
   ],
   "source": [
    "#visualise character count in boxplot\n",
    "f,axes = plt.subplots(2,1,figsize=(18,8))\n",
    "sb.boxplot(spam[\"Char Count\"], orient = \"h\", color = \"red\", ax = axes[0])\n",
    "sb.boxplot(good[\"Char Count\"], orient = \"h\", color = \"blue\", ax = axes[1])"
   ]
  },
  {
   "cell_type": "code",
   "execution_count": 25,
   "metadata": {},
   "outputs": [
    {
     "name": "stdout",
     "output_type": "stream",
     "text": [
      "Average character count of spam texts:  137.40809968847353\n",
      "Average character count of good texts:  70.87223206377325\n"
     ]
    }
   ],
   "source": [
    "print(\"Average character count of spam texts: \", spam[\"Char Count\"].mean())\n",
    "print(\"Average character count of good texts: \", good[\"Char Count\"].mean())"
   ]
  },
  {
   "cell_type": "markdown",
   "metadata": {},
   "source": [
    "Clearly, the average character count of 'spam' texts is almost 2 times that of 'good' texts. This feature makes a great variable in predicting whether a text is a 'spam' or 'good'. "
   ]
  },
  {
   "cell_type": "markdown",
   "metadata": {},
   "source": [
    "# Classification using ONLY tokenised words \n",
    "First, we will be using only the bag of words attained from CountVectorizer to observe the accuracy of classification using DecisionTreeClassifier and RandomForestClassifier. This will allow us to observe how well the tokenised words alone allow us to train and predict which messages are 'good' and which are 'spam'. "
   ]
  },
  {
   "cell_type": "code",
   "execution_count": 110,
   "metadata": {},
   "outputs": [
    {
     "name": "stdout",
     "output_type": "stream",
     "text": [
      "Dimension of smsBOW_train set:  (3868, 62)\n",
      "Dimension of smsBOW_test set:  (1290, 62)\n"
     ]
    }
   ],
   "source": [
    "#splitting the data into train(0.75) and test(0.25)\n",
    "BOW_train, BOW_test, spamBOW_train, spamBOW_test = train_test_split(sms_bow,\n",
    "                                                                   smsDD_k['label'],\n",
    "                                                                   test_size = 0.25)\n",
    "\n",
    "print(\"Dimension of smsBOW_train set: \", BOW_train.shape)\n",
    "print(\"Dimension of smsBOW_test set: \", BOW_test.shape)"
   ]
  },
  {
   "cell_type": "markdown",
   "metadata": {},
   "source": [
    "### Function to calculate True positive and negative rates, and False positive and negative rates"
   ]
  },
  {
   "cell_type": "code",
   "execution_count": 111,
   "metadata": {},
   "outputs": [],
   "source": [
    "#Writing forumlas to calculate TPR, TNR, FPR, FNR\n",
    "def TPR_FNR(x,y):\n",
    "    res = x/(x+y)\n",
    "    return res\n",
    "\n",
    "def TNR_FPR(a,b):\n",
    "    res = a/(a+b)\n",
    "    return res"
   ]
  },
  {
   "cell_type": "markdown",
   "metadata": {},
   "source": [
    "#### True positive:\n",
    "Messages that are 'spam' correctly predicted and labelled as 'spam' by classifier.\n",
    "\n",
    "#### True negative:\n",
    "Messages that are 'good' correctly predicted and labelled as 'good' by classifier. \n",
    "\n",
    "#### False positive:\n",
    "Messages that are 'good' wrongly predicted and labelled as 'spam' by classifier.\n",
    "\n",
    "#### Flase negative:\n",
    "Messages that are 'spam' wrongly predicted and labelled as 'good' by classifier."
   ]
  },
  {
   "cell_type": "markdown",
   "metadata": {},
   "source": [
    "## Classification with DecisionTreeClassifier \n",
    "(Using only tokenised words)\n",
    "\n",
    "### For train set"
   ]
  },
  {
   "cell_type": "code",
   "execution_count": 112,
   "metadata": {},
   "outputs": [
    {
     "data": {
      "text/plain": [
       "DecisionTreeClassifier(class_weight=None, criterion='gini', max_depth=8,\n",
       "                       max_features=None, max_leaf_nodes=None,\n",
       "                       min_impurity_decrease=0.0, min_impurity_split=None,\n",
       "                       min_samples_leaf=1, min_samples_split=2,\n",
       "                       min_weight_fraction_leaf=0.0, presort=False,\n",
       "                       random_state=None, splitter='best')"
      ]
     },
     "execution_count": 112,
     "metadata": {},
     "output_type": "execute_result"
    }
   ],
   "source": [
    "#first, create a decision tree object\n",
    "deciT_bow = DecisionTreeClassifier(max_depth = 8)\n",
    "\n",
    "#next, fit the data into the object\n",
    "deciT_bow.fit(BOW_train, spamBOW_train)"
   ]
  },
  {
   "cell_type": "code",
   "execution_count": 113,
   "metadata": {},
   "outputs": [],
   "source": [
    "#make predictions based on x variables (BOW_train)\n",
    "spamBOW_trainP = deciT_bow.predict(BOW_train)"
   ]
  },
  {
   "cell_type": "markdown",
   "metadata": {},
   "source": [
    "### Visualise the accuracy of prediction using confusion matrix"
   ]
  },
  {
   "cell_type": "code",
   "execution_count": 114,
   "metadata": {},
   "outputs": [
    {
     "data": {
      "text/plain": [
       "<matplotlib.axes._subplots.AxesSubplot at 0x20f8a76b508>"
      ]
     },
     "execution_count": 114,
     "metadata": {},
     "output_type": "execute_result"
    },
    {
     "data": {
      "image/png": "[encoded data removed]",
      "text/plain": [
       "<Figure size 576x360 with 2 Axes>"
      ]
     },
     "metadata": {},
     "output_type": "display_data"
    }
   ],
   "source": [
    "#plotting the confusion matrix\n",
    "f,axes = plt.subplots(1,1,figsize = (8,5))\n",
    "sb.heatmap(confusion_matrix(spamBOW_train, spamBOW_trainP), annot = True, fmt = '.0f', annot_kws = {\"size\":12})"
   ]
  },
  {
   "cell_type": "markdown",
   "metadata": {},
   "source": [
    "So according to our confusion matrix, we observe that there are 3376 'good' messages correctly labelled as 'good', and 450 'spam' messages that are correctly labelled as 'spam'.\n",
    "\n",
    "However, there are 41 'spam' messages wrongly labelled as 'good' and 1 'good' message wrongly labelled as 'spam'."
   ]
  },
  {
   "cell_type": "code",
   "execution_count": 117,
   "metadata": {},
   "outputs": [
    {
     "name": "stdout",
     "output_type": "stream",
     "text": [
      "Value of accuracy of classification:  0.9891416752843847\n",
      "True positive rate:\t 0.916\n",
      "True negative rate:\t 1.0\n",
      "False positive rate:\t 0.0\n",
      "False negative rate:\t 0.084\n"
     ]
    }
   ],
   "source": [
    "#calculate accuracy of prediction \n",
    "print(\"Value of accuracy of classification: \",deciT_bow.score(BOW_train, spamBOW_train))\n",
    "\n",
    "#calculating TPR, TNR, FPR, FNR\n",
    "TP = 450\n",
    "TN = 3376\n",
    "FP = 1\n",
    "FN = 41\n",
    "print(\"True positive rate:\\t\", round(TPR_FNR(TP,FN),3))\n",
    "print(\"True negative rate:\\t\", round(TNR_FPR(TN,FP),3))\n",
    "print(\"False positive rate:\\t\", round(TNR_FPR(FP,TN),3))\n",
    "print(\"False negative rate:\\t\", round(TPR_FNR(FN,TP),3))"
   ]
  },
  {
   "cell_type": "markdown",
   "metadata": {},
   "source": [
    "### For test set"
   ]
  },
  {
   "cell_type": "code",
   "execution_count": 118,
   "metadata": {},
   "outputs": [],
   "source": [
    "#make predictions using test set x variables\n",
    "spamBOW_testP = deciT_bow.predict(BOW_test)"
   ]
  },
  {
   "cell_type": "markdown",
   "metadata": {},
   "source": [
    "### Visualise the accuracy of prediction using confusion matrix"
   ]
  },
  {
   "cell_type": "code",
   "execution_count": 119,
   "metadata": {},
   "outputs": [
    {
     "data": {
      "text/plain": [
       "<matplotlib.axes._subplots.AxesSubplot at 0x20f8a8046c8>"
      ]
     },
     "execution_count": 119,
     "metadata": {},
     "output_type": "execute_result"
    },
    {
     "data": {
      "image/png": "[encoded data removed]",
      "text/plain": [
       "<Figure size 576x360 with 2 Axes>"
      ]
     },
     "metadata": {},
     "output_type": "display_data"
    }
   ],
   "source": [
    "#plotting the confusion matrix\n",
    "f,axes = plt.subplots(1,1,figsize = (8,5))\n",
    "sb.heatmap(confusion_matrix(spamBOW_test, spamBOW_testP), annot = True, fmt = '.0f', annot_kws = {\"size\":12})"
   ]
  },
  {
   "cell_type": "markdown",
   "metadata": {},
   "source": [
    "So according to our confusion matrix, we observe that there are 1126 'good' messages correctly labelled as 'good', and 121 'spam' messages that are correctly labelled as 'spam'.\n",
    "\n",
    "However, there are 30 'spam' messages wrongly labelled as 'good' and 13 'good' messages wrongly labelled as 'spam'."
   ]
  },
  {
   "cell_type": "code",
   "execution_count": 120,
   "metadata": {},
   "outputs": [
    {
     "name": "stdout",
     "output_type": "stream",
     "text": [
      "Value of accuracy of classification:  0.9666666666666667\n",
      "True positive rate:\t 0.801\n",
      "True negative rate:\t 0.989\n",
      "False positive rate:\t 0.011\n",
      "False negative rate:\t 0.199\n"
     ]
    }
   ],
   "source": [
    "#calculate accuracy of prediction \n",
    "print(\"Value of accuracy of classification: \",deciT_bow.score(BOW_test, spamBOW_test))\n",
    "\n",
    "#calculating TPR, TNR, FPR, FNR\n",
    "TP = 121\n",
    "TN = 1126\n",
    "FP = 13\n",
    "FN = 30\n",
    "print(\"True positive rate:\\t\", round(TPR_FNR(TP,FN),3))\n",
    "print(\"True negative rate:\\t\", round(TNR_FPR(TN,FP),3))\n",
    "print(\"False positive rate:\\t\", round(TNR_FPR(FP,TN),3))\n",
    "print(\"False negative rate:\\t\", round(TPR_FNR(FN,TP),3))"
   ]
  },
  {
   "cell_type": "markdown",
   "metadata": {},
   "source": [
    "#### Final comments on decision tree classifier using only tokenised words:\n",
    "It seems that just using the stemmed, lemmatised bag of words can produce a decently accurate prediction of 96.7% for the test set. \n",
    "\n",
    "Let's see how the Random Forest model will perform with the same train and test set. "
   ]
  },
  {
   "cell_type": "markdown",
   "metadata": {},
   "source": [
    "## Classification with RandomForestClassifier\n",
    "(Using only tokenised words )"
   ]
  },
  {
   "cell_type": "code",
   "execution_count": 121,
   "metadata": {},
   "outputs": [],
   "source": [
    "#Create a random forest object\n",
    "rdf_bow = RandomForestClassifier(n_estimators = 100,\n",
    "                                max_depth = 4)"
   ]
  },
  {
   "cell_type": "markdown",
   "metadata": {},
   "source": [
    "### For train set"
   ]
  },
  {
   "cell_type": "code",
   "execution_count": 134,
   "metadata": {},
   "outputs": [],
   "source": [
    "#fit data into object\n",
    "rdf_bow.fit(BOW_train, spamBOW_train)\n",
    "\n",
    "#making predictions using x variables\n",
    "rdf_spamTrainP = rdf_bow.predict(BOW_train)"
   ]
  },
  {
   "cell_type": "markdown",
   "metadata": {},
   "source": [
    "### Visualise with confusion matrix"
   ]
  },
  {
   "cell_type": "code",
   "execution_count": 135,
   "metadata": {},
   "outputs": [
    {
     "data": {
      "text/plain": [
       "<matplotlib.axes._subplots.AxesSubplot at 0x20f8bedccc8>"
      ]
     },
     "execution_count": 135,
     "metadata": {},
     "output_type": "execute_result"
    },
    {
     "data": {
      "image/png": "[encoded data removed]",
      "text/plain": [
       "<Figure size 576x360 with 2 Axes>"
      ]
     },
     "metadata": {},
     "output_type": "display_data"
    }
   ],
   "source": [
    "#plotting the confusion matrix\n",
    "f,axes = plt.subplots(1,1,figsize = (8,5))\n",
    "sb.heatmap(confusion_matrix(spamBOW_train, rdf_spamTrainP), annot = True, fmt = '.0f', annot_kws = {\"size\":12})"
   ]
  },
  {
   "cell_type": "code",
   "execution_count": 136,
   "metadata": {},
   "outputs": [
    {
     "name": "stdout",
     "output_type": "stream",
     "text": [
      "Goodness of model:\tTrain data set:\n",
      "Classification accuracy\t 0.9800930713547052\n",
      "\n",
      "True positive rate:\t 0.859\n",
      "True negative rate:\t 0.998\n",
      "False positive rate:\t 0.002\n",
      "False negative rate:\t 0.141\n"
     ]
    }
   ],
   "source": [
    "#calculate classification accuracy\n",
    "print(\"Goodness of model:\\tTrain data set:\")\n",
    "print(\"Classification accuracy\\t\", rdf_bow.score(BOW_train, spamBOW_train))\n",
    "print()\n",
    "\n",
    "#calculating TPR, TNR, FPR, FNR\n",
    "TP = 422\n",
    "TN = 3369\n",
    "FP = 8\n",
    "FN = 69\n",
    "print(\"True positive rate:\\t\", round(TPR_FNR(TP,FN),3))\n",
    "print(\"True negative rate:\\t\", round(TNR_FPR(TN,FP),3))\n",
    "print(\"False positive rate:\\t\", round(TNR_FPR(FP,TN),3))\n",
    "print(\"False negative rate:\\t\", round(TPR_FNR(FN,TP),3))"
   ]
  },
  {
   "cell_type": "markdown",
   "metadata": {},
   "source": [
    "So according to our confusion matrix, we observe that there are 3369 'good' messages correctly labelled as 'good', and 422 'spam' messages that are correctly labelled as 'spam'.\n",
    "\n",
    "However, there are 69 'spam' messages wrongly labelled as 'good' and 8 'spam' messages were wrongly labelled as 'good'."
   ]
  },
  {
   "cell_type": "markdown",
   "metadata": {},
   "source": [
    "### For test set"
   ]
  },
  {
   "cell_type": "code",
   "execution_count": 137,
   "metadata": {},
   "outputs": [],
   "source": [
    "#making predictions for test set\n",
    "rdf_spamTestP = rdf_bow.predict(BOW_test)"
   ]
  },
  {
   "cell_type": "code",
   "execution_count": 138,
   "metadata": {},
   "outputs": [
    {
     "data": {
      "text/plain": [
       "<matplotlib.axes._subplots.AxesSubplot at 0x20f8bf7e908>"
      ]
     },
     "execution_count": 138,
     "metadata": {},
     "output_type": "execute_result"
    },
    {
     "data": {
      "image/png": "[encoded data removed]",
      "text/plain": [
       "<Figure size 576x360 with 2 Axes>"
      ]
     },
     "metadata": {},
     "output_type": "display_data"
    }
   ],
   "source": [
    "#plotting the confusion matrix\n",
    "f,axes = plt.subplots(1,1,figsize = (8,5))\n",
    "sb.heatmap(confusion_matrix(spamBOW_test, rdf_spamTestP), annot = True, fmt = '.0f', annot_kws = {\"size\":12})"
   ]
  },
  {
   "cell_type": "code",
   "execution_count": 139,
   "metadata": {},
   "outputs": [
    {
     "name": "stdout",
     "output_type": "stream",
     "text": [
      "Goodness of model:\tTest data set:\n",
      "Classification accuracy\t 0.9682170542635659\n",
      "\n",
      "True positive rate:\t 0.768\n",
      "True negative rate:\t 0.995\n",
      "False positive rate:\t 0.005\n",
      "False negative rate:\t 0.232\n"
     ]
    }
   ],
   "source": [
    "#calculate classification accuracy\n",
    "print(\"Goodness of model:\\tTest data set:\")\n",
    "print(\"Classification accuracy\\t\", rdf_bow.score(BOW_test, spamBOW_test))\n",
    "print()\n",
    "\n",
    "#calculating TPR, TNR, FPR, FNR\n",
    "TP = 116\n",
    "TN = 1133\n",
    "FP = 6\n",
    "FN = 35\n",
    "print(\"True positive rate:\\t\", round(TPR_FNR(TP,FN),3))\n",
    "print(\"True negative rate:\\t\", round(TNR_FPR(TN,FP),3))\n",
    "print(\"False positive rate:\\t\", round(TNR_FPR(FP,TN),3))\n",
    "print(\"False negative rate:\\t\", round(TPR_FNR(FN,TP),3))"
   ]
  },
  {
   "cell_type": "markdown",
   "metadata": {},
   "source": [
    "So it seems the accuracy of the random forest model for the test set is not  significantly different from the test set of the decision tree model. With an accuracy percentage of 96.8%, it outdid the Decision Tree model by a small margin of 0.1%"
   ]
  },
  {
   "cell_type": "markdown",
   "metadata": {},
   "source": [
    "#### Final comments on classification using only tokenised words as variables:\n",
    "A Random Forest Model is an ensemble of many Decision Tree classifiers and in simple terms, it averages the predictions returned from all the trees. Hence, there is less bias in the prediction, as compared to one Decision Tree model. \n",
    "\n",
    "Furthermore, the accuracy of the Random Forest model for the same test set produced a higher accuracy rate compared to a single Decision Tree model. Hence, I believe using a Random Forest Classifier to predict if a message is a 'good' or 'spam' will be the best choice with the least bias."
   ]
  },
  {
   "cell_type": "markdown",
   "metadata": {},
   "source": [
    "# Predicting 'spam' or 'good' using multiple variables"
   ]
  },
  {
   "cell_type": "markdown",
   "metadata": {},
   "source": [
    "As seen above, the number of characters and clean words in 'spam' and 'good' texts vary significantly. At the same time, stemming the words can remove redundant characters like 'es', 's' and 'ing' while lemmatising the words will remove inflectional endings to return the base form of a word. This will greatly increase the frequency of specific words occuring in each text, hence proving the frequency to be a good predictor as well. "
   ]
  },
  {
   "cell_type": "code",
   "execution_count": 94,
   "metadata": {},
   "outputs": [
    {
     "data": {
      "text/html": [
       "<div>\n",
       "<style scoped>\n",
       "    .dataframe tbody tr th:only-of-type {\n",
       "        vertical-align: middle;\n",
       "    }\n",
       "\n",
       "    .dataframe tbody tr th {\n",
       "        vertical-align: top;\n",
       "    }\n",
       "\n",
       "    .dataframe thead th {\n",
       "        text-align: right;\n",
       "    }\n",
       "</style>\n",
       "<table border=\"1\" class=\"dataframe\">\n",
       "  <thead>\n",
       "    <tr style=\"text-align: right;\">\n",
       "      <th></th>\n",
       "      <th>\\t</th>\n",
       "      <th>\\n</th>\n",
       "      <th></th>\n",
       "      <th>0</th>\n",
       "      <th>1</th>\n",
       "      <th>2</th>\n",
       "      <th>3</th>\n",
       "      <th>4</th>\n",
       "      <th>5</th>\n",
       "      <th>6</th>\n",
       "      <th>...</th>\n",
       "      <th>‘</th>\n",
       "      <th>’</th>\n",
       "      <th>“</th>\n",
       "      <th>…</th>\n",
       "      <th>┾</th>\n",
       "      <th>〨</th>\n",
       "      <th>鈥</th>\n",
       "      <th>Char Count</th>\n",
       "      <th>Word Count</th>\n",
       "      <th>Word Count</th>\n",
       "    </tr>\n",
       "  </thead>\n",
       "  <tbody>\n",
       "    <tr>\n",
       "      <td>0</td>\n",
       "      <td>0</td>\n",
       "      <td>0</td>\n",
       "      <td>19</td>\n",
       "      <td>0</td>\n",
       "      <td>0</td>\n",
       "      <td>0</td>\n",
       "      <td>0</td>\n",
       "      <td>0</td>\n",
       "      <td>0</td>\n",
       "      <td>0</td>\n",
       "      <td>...</td>\n",
       "      <td>0</td>\n",
       "      <td>0</td>\n",
       "      <td>0</td>\n",
       "      <td>0</td>\n",
       "      <td>0</td>\n",
       "      <td>0</td>\n",
       "      <td>0</td>\n",
       "      <td>111</td>\n",
       "      <td>16</td>\n",
       "      <td>16</td>\n",
       "    </tr>\n",
       "    <tr>\n",
       "      <td>1</td>\n",
       "      <td>0</td>\n",
       "      <td>0</td>\n",
       "      <td>5</td>\n",
       "      <td>0</td>\n",
       "      <td>0</td>\n",
       "      <td>0</td>\n",
       "      <td>0</td>\n",
       "      <td>0</td>\n",
       "      <td>0</td>\n",
       "      <td>0</td>\n",
       "      <td>...</td>\n",
       "      <td>0</td>\n",
       "      <td>0</td>\n",
       "      <td>0</td>\n",
       "      <td>0</td>\n",
       "      <td>0</td>\n",
       "      <td>0</td>\n",
       "      <td>0</td>\n",
       "      <td>29</td>\n",
       "      <td>6</td>\n",
       "      <td>6</td>\n",
       "    </tr>\n",
       "    <tr>\n",
       "      <td>2</td>\n",
       "      <td>0</td>\n",
       "      <td>0</td>\n",
       "      <td>27</td>\n",
       "      <td>5</td>\n",
       "      <td>5</td>\n",
       "      <td>5</td>\n",
       "      <td>0</td>\n",
       "      <td>1</td>\n",
       "      <td>3</td>\n",
       "      <td>0</td>\n",
       "      <td>...</td>\n",
       "      <td>0</td>\n",
       "      <td>0</td>\n",
       "      <td>0</td>\n",
       "      <td>0</td>\n",
       "      <td>0</td>\n",
       "      <td>0</td>\n",
       "      <td>0</td>\n",
       "      <td>155</td>\n",
       "      <td>23</td>\n",
       "      <td>23</td>\n",
       "    </tr>\n",
       "    <tr>\n",
       "      <td>3</td>\n",
       "      <td>0</td>\n",
       "      <td>0</td>\n",
       "      <td>10</td>\n",
       "      <td>0</td>\n",
       "      <td>0</td>\n",
       "      <td>0</td>\n",
       "      <td>0</td>\n",
       "      <td>0</td>\n",
       "      <td>0</td>\n",
       "      <td>0</td>\n",
       "      <td>...</td>\n",
       "      <td>0</td>\n",
       "      <td>0</td>\n",
       "      <td>0</td>\n",
       "      <td>0</td>\n",
       "      <td>0</td>\n",
       "      <td>0</td>\n",
       "      <td>0</td>\n",
       "      <td>49</td>\n",
       "      <td>9</td>\n",
       "      <td>9</td>\n",
       "    </tr>\n",
       "    <tr>\n",
       "      <td>4</td>\n",
       "      <td>0</td>\n",
       "      <td>0</td>\n",
       "      <td>12</td>\n",
       "      <td>0</td>\n",
       "      <td>0</td>\n",
       "      <td>0</td>\n",
       "      <td>0</td>\n",
       "      <td>0</td>\n",
       "      <td>0</td>\n",
       "      <td>0</td>\n",
       "      <td>...</td>\n",
       "      <td>0</td>\n",
       "      <td>0</td>\n",
       "      <td>0</td>\n",
       "      <td>0</td>\n",
       "      <td>0</td>\n",
       "      <td>0</td>\n",
       "      <td>0</td>\n",
       "      <td>61</td>\n",
       "      <td>8</td>\n",
       "      <td>8</td>\n",
       "    </tr>\n",
       "  </tbody>\n",
       "</table>\n",
       "<p>5 rows × 65 columns</p>\n",
       "</div>"
      ],
      "text/plain": [
       "   \\t  \\n      0  1  2  3  4  5  6  ...  ‘  ’  “  …  ┾  〨  鈥  Char Count  \\\n",
       "0   0   0  19  0  0  0  0  0  0  0  ...  0  0  0  0  0  0  0         111   \n",
       "1   0   0   5  0  0  0  0  0  0  0  ...  0  0  0  0  0  0  0          29   \n",
       "2   0   0  27  5  5  5  0  1  3  0  ...  0  0  0  0  0  0  0         155   \n",
       "3   0   0  10  0  0  0  0  0  0  0  ...  0  0  0  0  0  0  0          49   \n",
       "4   0   0  12  0  0  0  0  0  0  0  ...  0  0  0  0  0  0  0          61   \n",
       "\n",
       "   Word Count  Word Count  \n",
       "0          16          16  \n",
       "1           6           6  \n",
       "2          23          23  \n",
       "3           9           9  \n",
       "4           8           8  \n",
       "\n",
       "[5 rows x 65 columns]"
      ]
     },
     "execution_count": 94,
     "metadata": {},
     "output_type": "execute_result"
    }
   ],
   "source": [
    "#creating a dataframe of multiple variables\n",
    "mult_var = pd.DataFrame(sms_bow.toarray(), columns=count.get_feature_names())\n",
    "mult_var = pd.concat([mult_var, smsDD_k[\"Char Count\"].reindex(index=mult_var.index)], axis=1, sort=False)\n",
    "mult_var[\"Char Count\"] = mult_var[\"Char Count\"].fillna(0).astype(np.int64)\n",
    "mult_var[\"Char Count\"] = mult_var[\"Char Count\"].astype('int64')\n",
    "mult_var = pd.concat([mult_var, smsDD_k[\"Word Count\"].reindex(index=mult_var.index)], axis=1, sort=False)\n",
    "mult_var[\"Word Count\"] = mult_var[\"Word Count\"].fillna(0).astype(np.int64)\n",
    "mult_var[\"Word Count\"] = mult_var[\"Word Count\"].astype('int64')\n",
    "mult_var.head()"
   ]
  },
  {
   "cell_type": "code",
   "execution_count": 95,
   "metadata": {},
   "outputs": [
    {
     "data": {
      "text/html": [
       "<div>\n",
       "<style scoped>\n",
       "    .dataframe tbody tr th:only-of-type {\n",
       "        vertical-align: middle;\n",
       "    }\n",
       "\n",
       "    .dataframe tbody tr th {\n",
       "        vertical-align: top;\n",
       "    }\n",
       "\n",
       "    .dataframe thead th {\n",
       "        text-align: right;\n",
       "    }\n",
       "</style>\n",
       "<table border=\"1\" class=\"dataframe\">\n",
       "  <thead>\n",
       "    <tr style=\"text-align: right;\">\n",
       "      <th></th>\n",
       "      <th>mean_frequency</th>\n",
       "    </tr>\n",
       "  </thead>\n",
       "  <tbody>\n",
       "    <tr>\n",
       "      <td>Char Count</td>\n",
       "      <td>74.013183</td>\n",
       "    </tr>\n",
       "    <tr>\n",
       "      <td></td>\n",
       "      <td>14.494572</td>\n",
       "    </tr>\n",
       "    <tr>\n",
       "      <td>Word Count</td>\n",
       "      <td>8.672935</td>\n",
       "    </tr>\n",
       "    <tr>\n",
       "      <td>Word Count</td>\n",
       "      <td>8.672935</td>\n",
       "    </tr>\n",
       "    <tr>\n",
       "      <td>e</td>\n",
       "      <td>6.006592</td>\n",
       "    </tr>\n",
       "  </tbody>\n",
       "</table>\n",
       "</div>"
      ],
      "text/plain": [
       "            mean_frequency\n",
       "Char Count       74.013183\n",
       "                 14.494572\n",
       "Word Count        8.672935\n",
       "Word Count        8.672935\n",
       "e                 6.006592"
      ]
     },
     "execution_count": 95,
     "metadata": {},
     "output_type": "execute_result"
    }
   ],
   "source": [
    "#calculating frequency\n",
    "frq_vars = pd.DataFrame({'mean_frequency':mult_var.mean(axis=0)}, index=mult_var.columns)\n",
    "frq_vars = frq_vars.sort_values(by='mean_frequency', ascending=False)\n",
    "frq_vars.head()"
   ]
  },
  {
   "cell_type": "code",
   "execution_count": 96,
   "metadata": {},
   "outputs": [
    {
     "data": {
      "text/html": [
       "<div>\n",
       "<style scoped>\n",
       "    .dataframe tbody tr th:only-of-type {\n",
       "        vertical-align: middle;\n",
       "    }\n",
       "\n",
       "    .dataframe tbody tr th {\n",
       "        vertical-align: top;\n",
       "    }\n",
       "\n",
       "    .dataframe thead th {\n",
       "        text-align: right;\n",
       "    }\n",
       "</style>\n",
       "<table border=\"1\" class=\"dataframe\">\n",
       "  <thead>\n",
       "    <tr style=\"text-align: right;\">\n",
       "      <th></th>\n",
       "      <th>Char Count</th>\n",
       "      <th></th>\n",
       "      <th>Word Count</th>\n",
       "      <th>Word Count</th>\n",
       "      <th>Word Count</th>\n",
       "      <th>Word Count</th>\n",
       "      <th>e</th>\n",
       "      <th>o</th>\n",
       "      <th>t</th>\n",
       "      <th>a</th>\n",
       "      <th>...</th>\n",
       "      <th>8</th>\n",
       "      <th>5</th>\n",
       "      <th>4</th>\n",
       "      <th>j</th>\n",
       "      <th>7</th>\n",
       "      <th>3</th>\n",
       "      <th>6</th>\n",
       "      <th>9</th>\n",
       "      <th>z</th>\n",
       "      <th>£</th>\n",
       "    </tr>\n",
       "  </thead>\n",
       "  <tbody>\n",
       "    <tr>\n",
       "      <td>0</td>\n",
       "      <td>111</td>\n",
       "      <td>19</td>\n",
       "      <td>16</td>\n",
       "      <td>16</td>\n",
       "      <td>16</td>\n",
       "      <td>16</td>\n",
       "      <td>8</td>\n",
       "      <td>7</td>\n",
       "      <td>7</td>\n",
       "      <td>8</td>\n",
       "      <td>...</td>\n",
       "      <td>0</td>\n",
       "      <td>0</td>\n",
       "      <td>0</td>\n",
       "      <td>1</td>\n",
       "      <td>0</td>\n",
       "      <td>0</td>\n",
       "      <td>0</td>\n",
       "      <td>0</td>\n",
       "      <td>1</td>\n",
       "      <td>0</td>\n",
       "    </tr>\n",
       "    <tr>\n",
       "      <td>1</td>\n",
       "      <td>29</td>\n",
       "      <td>5</td>\n",
       "      <td>6</td>\n",
       "      <td>6</td>\n",
       "      <td>6</td>\n",
       "      <td>6</td>\n",
       "      <td>0</td>\n",
       "      <td>3</td>\n",
       "      <td>0</td>\n",
       "      <td>1</td>\n",
       "      <td>...</td>\n",
       "      <td>0</td>\n",
       "      <td>0</td>\n",
       "      <td>0</td>\n",
       "      <td>1</td>\n",
       "      <td>0</td>\n",
       "      <td>0</td>\n",
       "      <td>0</td>\n",
       "      <td>0</td>\n",
       "      <td>0</td>\n",
       "      <td>0</td>\n",
       "    </tr>\n",
       "    <tr>\n",
       "      <td>2</td>\n",
       "      <td>155</td>\n",
       "      <td>27</td>\n",
       "      <td>23</td>\n",
       "      <td>23</td>\n",
       "      <td>23</td>\n",
       "      <td>23</td>\n",
       "      <td>11</td>\n",
       "      <td>6</td>\n",
       "      <td>16</td>\n",
       "      <td>7</td>\n",
       "      <td>...</td>\n",
       "      <td>4</td>\n",
       "      <td>3</td>\n",
       "      <td>1</td>\n",
       "      <td>0</td>\n",
       "      <td>2</td>\n",
       "      <td>0</td>\n",
       "      <td>0</td>\n",
       "      <td>0</td>\n",
       "      <td>0</td>\n",
       "      <td>0</td>\n",
       "    </tr>\n",
       "    <tr>\n",
       "      <td>3</td>\n",
       "      <td>49</td>\n",
       "      <td>10</td>\n",
       "      <td>9</td>\n",
       "      <td>9</td>\n",
       "      <td>9</td>\n",
       "      <td>9</td>\n",
       "      <td>3</td>\n",
       "      <td>2</td>\n",
       "      <td>1</td>\n",
       "      <td>5</td>\n",
       "      <td>...</td>\n",
       "      <td>0</td>\n",
       "      <td>0</td>\n",
       "      <td>0</td>\n",
       "      <td>0</td>\n",
       "      <td>0</td>\n",
       "      <td>0</td>\n",
       "      <td>0</td>\n",
       "      <td>0</td>\n",
       "      <td>0</td>\n",
       "      <td>0</td>\n",
       "    </tr>\n",
       "    <tr>\n",
       "      <td>4</td>\n",
       "      <td>61</td>\n",
       "      <td>12</td>\n",
       "      <td>8</td>\n",
       "      <td>8</td>\n",
       "      <td>8</td>\n",
       "      <td>8</td>\n",
       "      <td>6</td>\n",
       "      <td>5</td>\n",
       "      <td>4</td>\n",
       "      <td>2</td>\n",
       "      <td>...</td>\n",
       "      <td>0</td>\n",
       "      <td>0</td>\n",
       "      <td>0</td>\n",
       "      <td>0</td>\n",
       "      <td>0</td>\n",
       "      <td>0</td>\n",
       "      <td>0</td>\n",
       "      <td>0</td>\n",
       "      <td>0</td>\n",
       "      <td>0</td>\n",
       "    </tr>\n",
       "  </tbody>\n",
       "</table>\n",
       "<p>5 rows × 42 columns</p>\n",
       "</div>"
      ],
      "text/plain": [
       "   Char Count      Word Count  Word Count  Word Count  Word Count   e  o   t  \\\n",
       "0         111  19          16          16          16          16   8  7   7   \n",
       "1          29   5           6           6           6           6   0  3   0   \n",
       "2         155  27          23          23          23          23  11  6  16   \n",
       "3          49  10           9           9           9           9   3  2   1   \n",
       "4          61  12           8           8           8           8   6  5   4   \n",
       "\n",
       "   a  ...  8  5  4  j  7  3  6  9  z  £  \n",
       "0  8  ...  0  0  0  1  0  0  0  0  1  0  \n",
       "1  1  ...  0  0  0  1  0  0  0  0  0  0  \n",
       "2  7  ...  4  3  1  0  2  0  0  0  0  0  \n",
       "3  5  ...  0  0  0  0  0  0  0  0  0  0  \n",
       "4  2  ...  0  0  0  0  0  0  0  0  0  0  \n",
       "\n",
       "[5 rows x 42 columns]"
      ]
     },
     "execution_count": 96,
     "metadata": {},
     "output_type": "execute_result"
    }
   ],
   "source": [
    "#consider top 50 most frequent words\n",
    "frq50 = mult_var[frq_vars.index[:40]]\n",
    "frq50.head()"
   ]
  },
  {
   "cell_type": "markdown",
   "metadata": {},
   "source": [
    "### Split the dataset into train and test set"
   ]
  },
  {
   "cell_type": "code",
   "execution_count": 143,
   "metadata": {},
   "outputs": [
    {
     "name": "stdout",
     "output_type": "stream",
     "text": [
      "Dimension of smsBOW_train set:  (3868, 42)\n",
      "Dimension of smsBOW_test set:  (1290, 42)\n"
     ]
    }
   ],
   "source": [
    "#splitting the data into train(0.75) and test(0.25)\n",
    "smsBOW_train, smsBOW_test, spam_train, spam_test = train_test_split(frq50,\n",
    "                                                                   smsDD_k['label'],\n",
    "                                                                   test_size = 0.25)\n",
    "\n",
    "print(\"Dimension of smsBOW_train set: \", smsBOW_train.shape)\n",
    "print(\"Dimension of smsBOW_test set: \", smsBOW_test.shape)"
   ]
  },
  {
   "cell_type": "markdown",
   "metadata": {},
   "source": [
    "# Classifying training data set using DecisionTreeClassifier"
   ]
  },
  {
   "cell_type": "code",
   "execution_count": 144,
   "metadata": {},
   "outputs": [],
   "source": [
    "#create decisiontree object\n",
    "deci3 = DecisionTreeClassifier(max_depth = 8)\n",
    "#fit data into deicision tree\n",
    "deci3.fit(smsBOW_train, spam_train)\n",
    "\n",
    "#train prediction of training set\n",
    "spam_train_pred = deci3.predict(smsBOW_train)"
   ]
  },
  {
   "cell_type": "markdown",
   "metadata": {},
   "source": [
    "### Visualising accuracy of classification using confusion_matrix"
   ]
  },
  {
   "cell_type": "code",
   "execution_count": 145,
   "metadata": {},
   "outputs": [
    {
     "data": {
      "text/plain": [
       "<matplotlib.axes._subplots.AxesSubplot at 0x20f8a6a8508>"
      ]
     },
     "execution_count": 145,
     "metadata": {},
     "output_type": "execute_result"
    },
    {
     "data": {
      "image/png": "[encoded data removed]",
      "text/plain": [
       "<Figure size 576x360 with 2 Axes>"
      ]
     },
     "metadata": {},
     "output_type": "display_data"
    }
   ],
   "source": [
    "#plotting confusion matrix to check for true positives and negatives, and false positives and negatives\n",
    "f,axes = plt.subplots(1,1, figsize = (8,5))\n",
    "sb.heatmap(confusion_matrix(spam_train, spam_train_pred), annot = True, fmt = '.0f', annot_kws = {\"size\":12})"
   ]
  },
  {
   "cell_type": "code",
   "execution_count": 146,
   "metadata": {},
   "outputs": [
    {
     "name": "stdout",
     "output_type": "stream",
     "text": [
      "Value of accuracy of classification:  0.9886246122026887\n",
      "True positive rate:\t 0.912\n",
      "True negative rate:\t 1.0\n",
      "False positive rate:\t 0.0\n",
      "False negative rate:\t 0.088\n"
     ]
    }
   ],
   "source": [
    "#calculate accuracy of prediction \n",
    "print(\"Value of accuracy of classification: \",deci3.score(smsBOW_train, spam_train))\n",
    "\n",
    "#calculating TPR, TNR, FPR, FNR\n",
    "TP = 454\n",
    "TN = 3370\n",
    "FP = 0\n",
    "FN = 44\n",
    "print(\"True positive rate:\\t\", round(TPR_FNR(TP,FN),3))\n",
    "print(\"True negative rate:\\t\", round(TNR_FPR(TN,FP),3))\n",
    "print(\"False positive rate:\\t\", round(TNR_FPR(FP,TN),3))\n",
    "print(\"False negative rate:\\t\", round(TPR_FNR(FN,TP),3))"
   ]
  },
  {
   "cell_type": "markdown",
   "metadata": {},
   "source": [
    "### Calculating probability of classification"
   ]
  },
  {
   "cell_type": "code",
   "execution_count": 182,
   "metadata": {},
   "outputs": [
    {
     "data": {
      "text/html": [
       "<div>\n",
       "<style scoped>\n",
       "    .dataframe tbody tr th:only-of-type {\n",
       "        vertical-align: middle;\n",
       "    }\n",
       "\n",
       "    .dataframe tbody tr th {\n",
       "        vertical-align: top;\n",
       "    }\n",
       "\n",
       "    .dataframe thead th {\n",
       "        text-align: right;\n",
       "    }\n",
       "</style>\n",
       "<table border=\"1\" class=\"dataframe\">\n",
       "  <thead>\n",
       "    <tr style=\"text-align: right;\">\n",
       "      <th></th>\n",
       "      <th>label</th>\n",
       "      <th>Proba_Spam_Train</th>\n",
       "    </tr>\n",
       "  </thead>\n",
       "  <tbody>\n",
       "    <tr>\n",
       "      <td>3643</td>\n",
       "      <td>good</td>\n",
       "      <td>0.007521</td>\n",
       "    </tr>\n",
       "    <tr>\n",
       "      <td>3267</td>\n",
       "      <td>good</td>\n",
       "      <td>0.007521</td>\n",
       "    </tr>\n",
       "    <tr>\n",
       "      <td>385</td>\n",
       "      <td>spam</td>\n",
       "      <td>1.000000</td>\n",
       "    </tr>\n",
       "    <tr>\n",
       "      <td>3795</td>\n",
       "      <td>good</td>\n",
       "      <td>0.007521</td>\n",
       "    </tr>\n",
       "    <tr>\n",
       "      <td>8</td>\n",
       "      <td>spam</td>\n",
       "      <td>1.000000</td>\n",
       "    </tr>\n",
       "    <tr>\n",
       "      <td>...</td>\n",
       "      <td>...</td>\n",
       "      <td>...</td>\n",
       "    </tr>\n",
       "    <tr>\n",
       "      <td>1825</td>\n",
       "      <td>good</td>\n",
       "      <td>0.007521</td>\n",
       "    </tr>\n",
       "    <tr>\n",
       "      <td>1243</td>\n",
       "      <td>good</td>\n",
       "      <td>0.007521</td>\n",
       "    </tr>\n",
       "    <tr>\n",
       "      <td>4513</td>\n",
       "      <td>good</td>\n",
       "      <td>0.007521</td>\n",
       "    </tr>\n",
       "    <tr>\n",
       "      <td>5156</td>\n",
       "      <td>good</td>\n",
       "      <td>0.007521</td>\n",
       "    </tr>\n",
       "    <tr>\n",
       "      <td>4285</td>\n",
       "      <td>good</td>\n",
       "      <td>0.007521</td>\n",
       "    </tr>\n",
       "  </tbody>\n",
       "</table>\n",
       "<p>3868 rows × 2 columns</p>\n",
       "</div>"
      ],
      "text/plain": [
       "     label  Proba_Spam_Train\n",
       "3643  good          0.007521\n",
       "3267  good          0.007521\n",
       "385   spam          1.000000\n",
       "3795  good          0.007521\n",
       "8     spam          1.000000\n",
       "...    ...               ...\n",
       "1825  good          0.007521\n",
       "1243  good          0.007521\n",
       "4513  good          0.007521\n",
       "5156  good          0.007521\n",
       "4285  good          0.007521\n",
       "\n",
       "[3868 rows x 2 columns]"
      ]
     },
     "execution_count": 182,
     "metadata": {},
     "output_type": "execute_result"
    }
   ],
   "source": [
    "spam_pred_prob = deci3.predict_proba(smsBOW_train)\n",
    "spam_trainDF = pd.DataFrame(spam_train)\n",
    "prob_train = pd.DataFrame(list(spam_pred_prob[:,1]), columns = [\"Proba_Spam_Train\"],index=spam_train.index) #Proba_Spam refers to whether it is a spam message\n",
    "acct_sms = pd.concat([spam_trainDF, prob_train], axis = 1)\n",
    "acct_sms"
   ]
  },
  {
   "cell_type": "markdown",
   "metadata": {},
   "source": [
    "## Use DecisionTreeClassifier for test data set"
   ]
  },
  {
   "cell_type": "code",
   "execution_count": 183,
   "metadata": {},
   "outputs": [
    {
     "data": {
      "text/plain": [
       "<matplotlib.axes._subplots.AxesSubplot at 0x20f8d4fc788>"
      ]
     },
     "execution_count": 183,
     "metadata": {},
     "output_type": "execute_result"
    },
    {
     "data": {
      "image/png": "[encoded data removed]",
      "text/plain": [
       "<Figure size 576x360 with 2 Axes>"
      ]
     },
     "metadata": {},
     "output_type": "display_data"
    }
   ],
   "source": [
    "#predict whether a text is a spam or not\n",
    "spam_test_pred = deci3.predict(smsBOW_test)\n",
    "\n",
    "#visualise with a confusion_matrix\n",
    "f,axes = plt.subplots(1,1,figsize = (8,5))\n",
    "sb.heatmap(confusion_matrix(spam_test, spam_test_pred), annot = True, annot_kws={\"size\":12}, fmt='.0f')"
   ]
  },
  {
   "cell_type": "code",
   "execution_count": 184,
   "metadata": {},
   "outputs": [
    {
     "name": "stdout",
     "output_type": "stream",
     "text": [
      "Value of accuracy of classification:  0.9697674418604652\n",
      "\n",
      "True positive rate:\t 0.799\n",
      "True negative rate:\t 0.991\n",
      "False positive rate:\t 0.009\n",
      "False negative rate:\t 0.201\n"
     ]
    }
   ],
   "source": [
    "#calculate accuracy of classification\n",
    "print(\"Value of accuracy of classification: \", deci3.score(smsBOW_test, spam_test))\n",
    "print()\n",
    "\n",
    "#calculating TPR, TNR, FPR, FNR\n",
    "TP = 115\n",
    "TN = 1136\n",
    "FP = 10\n",
    "FN = 29\n",
    "print(\"True positive rate:\\t\", round(TPR_FNR(TP,FN),3))\n",
    "print(\"True negative rate:\\t\", round(TNR_FPR(TN,FP),3))\n",
    "print(\"False positive rate:\\t\", round(TNR_FPR(FP,TN),3))\n",
    "print(\"False negative rate:\\t\", round(TPR_FNR(FN,TP),3))"
   ]
  },
  {
   "cell_type": "code",
   "execution_count": 218,
   "metadata": {},
   "outputs": [
    {
     "data": {
      "text/html": [
       "<div>\n",
       "<style scoped>\n",
       "    .dataframe tbody tr th:only-of-type {\n",
       "        vertical-align: middle;\n",
       "    }\n",
       "\n",
       "    .dataframe tbody tr th {\n",
       "        vertical-align: top;\n",
       "    }\n",
       "\n",
       "    .dataframe thead th {\n",
       "        text-align: right;\n",
       "    }\n",
       "</style>\n",
       "<table border=\"1\" class=\"dataframe\">\n",
       "  <thead>\n",
       "    <tr style=\"text-align: right;\">\n",
       "      <th></th>\n",
       "      <th>label</th>\n",
       "      <th>Proba_Spam_Test</th>\n",
       "    </tr>\n",
       "  </thead>\n",
       "  <tbody>\n",
       "    <tr>\n",
       "      <td>3697</td>\n",
       "      <td>good</td>\n",
       "      <td>0.007521</td>\n",
       "    </tr>\n",
       "    <tr>\n",
       "      <td>3214</td>\n",
       "      <td>good</td>\n",
       "      <td>0.007521</td>\n",
       "    </tr>\n",
       "    <tr>\n",
       "      <td>671</td>\n",
       "      <td>good</td>\n",
       "      <td>0.007521</td>\n",
       "    </tr>\n",
       "    <tr>\n",
       "      <td>4243</td>\n",
       "      <td>spam</td>\n",
       "      <td>1.000000</td>\n",
       "    </tr>\n",
       "    <tr>\n",
       "      <td>3063</td>\n",
       "      <td>good</td>\n",
       "      <td>0.007521</td>\n",
       "    </tr>\n",
       "    <tr>\n",
       "      <td>...</td>\n",
       "      <td>...</td>\n",
       "      <td>...</td>\n",
       "    </tr>\n",
       "    <tr>\n",
       "      <td>666</td>\n",
       "      <td>good</td>\n",
       "      <td>0.007521</td>\n",
       "    </tr>\n",
       "    <tr>\n",
       "      <td>2795</td>\n",
       "      <td>good</td>\n",
       "      <td>0.007521</td>\n",
       "    </tr>\n",
       "    <tr>\n",
       "      <td>4907</td>\n",
       "      <td>good</td>\n",
       "      <td>0.007521</td>\n",
       "    </tr>\n",
       "    <tr>\n",
       "      <td>4857</td>\n",
       "      <td>good</td>\n",
       "      <td>0.007521</td>\n",
       "    </tr>\n",
       "    <tr>\n",
       "      <td>3172</td>\n",
       "      <td>good</td>\n",
       "      <td>0.007521</td>\n",
       "    </tr>\n",
       "  </tbody>\n",
       "</table>\n",
       "<p>1290 rows × 2 columns</p>\n",
       "</div>"
      ],
      "text/plain": [
       "     label  Proba_Spam_Test\n",
       "3697  good         0.007521\n",
       "3214  good         0.007521\n",
       "671   good         0.007521\n",
       "4243  spam         1.000000\n",
       "3063  good         0.007521\n",
       "...    ...              ...\n",
       "666   good         0.007521\n",
       "2795  good         0.007521\n",
       "4907  good         0.007521\n",
       "4857  good         0.007521\n",
       "3172  good         0.007521\n",
       "\n",
       "[1290 rows x 2 columns]"
      ]
     },
     "execution_count": 218,
     "metadata": {},
     "output_type": "execute_result"
    }
   ],
   "source": [
    "#calculate probability\n",
    "spam_pred_prob2 = deci3.predict_proba(smsBOW_test)\n",
    "spam_testDF = pd.DataFrame(spam_test)\n",
    "prob_test = pd.DataFrame(list(spam_pred_prob2[:,1]), columns = [\"Proba_Spam_Test\"],index=spam_test.index) #Proba_Spam refers to whether it is a spam message\n",
    "acct_sms2 = pd.concat([spam_testDF, prob_test], axis=1)\n",
    "acct_sms2"
   ]
  },
  {
   "cell_type": "code",
   "execution_count": 223,
   "metadata": {},
   "outputs": [
    {
     "data": {
      "text/html": [
       "<div>\n",
       "<style scoped>\n",
       "    .dataframe tbody tr th:only-of-type {\n",
       "        vertical-align: middle;\n",
       "    }\n",
       "\n",
       "    .dataframe tbody tr th {\n",
       "        vertical-align: top;\n",
       "    }\n",
       "\n",
       "    .dataframe thead th {\n",
       "        text-align: right;\n",
       "    }\n",
       "</style>\n",
       "<table border=\"1\" class=\"dataframe\">\n",
       "  <thead>\n",
       "    <tr style=\"text-align: right;\">\n",
       "      <th></th>\n",
       "      <th>text</th>\n",
       "      <th>label</th>\n",
       "      <th>Char Count</th>\n",
       "      <th>Word Count</th>\n",
       "      <th>Word Count</th>\n",
       "      <th>Proba_Spam_Train</th>\n",
       "      <th>Proba_Spam_Test</th>\n",
       "    </tr>\n",
       "  </thead>\n",
       "  <tbody>\n",
       "    <tr>\n",
       "      <td>0</td>\n",
       "      <td>Go until jurong point, crazy.. Available only ...</td>\n",
       "      <td>good</td>\n",
       "      <td>111</td>\n",
       "      <td>16</td>\n",
       "      <td>16</td>\n",
       "      <td>0.007521</td>\n",
       "      <td>NaN</td>\n",
       "    </tr>\n",
       "    <tr>\n",
       "      <td>1</td>\n",
       "      <td>Ok lar... Joking wif u oni...</td>\n",
       "      <td>good</td>\n",
       "      <td>29</td>\n",
       "      <td>6</td>\n",
       "      <td>6</td>\n",
       "      <td>NaN</td>\n",
       "      <td>0.007521</td>\n",
       "    </tr>\n",
       "    <tr>\n",
       "      <td>2</td>\n",
       "      <td>Free entry in 2 a wkly comp to win FA Cup fina...</td>\n",
       "      <td>spam</td>\n",
       "      <td>155</td>\n",
       "      <td>23</td>\n",
       "      <td>23</td>\n",
       "      <td>1.000000</td>\n",
       "      <td>NaN</td>\n",
       "    </tr>\n",
       "    <tr>\n",
       "      <td>3</td>\n",
       "      <td>U dun say so early hor... U c already then say...</td>\n",
       "      <td>good</td>\n",
       "      <td>49</td>\n",
       "      <td>9</td>\n",
       "      <td>9</td>\n",
       "      <td>0.007521</td>\n",
       "      <td>NaN</td>\n",
       "    </tr>\n",
       "    <tr>\n",
       "      <td>4</td>\n",
       "      <td>Nah I don't think he goes to usf, he lives aro...</td>\n",
       "      <td>good</td>\n",
       "      <td>61</td>\n",
       "      <td>8</td>\n",
       "      <td>8</td>\n",
       "      <td>0.007521</td>\n",
       "      <td>NaN</td>\n",
       "    </tr>\n",
       "    <tr>\n",
       "      <td>...</td>\n",
       "      <td>...</td>\n",
       "      <td>...</td>\n",
       "      <td>...</td>\n",
       "      <td>...</td>\n",
       "      <td>...</td>\n",
       "      <td>...</td>\n",
       "      <td>...</td>\n",
       "    </tr>\n",
       "    <tr>\n",
       "      <td>5567</td>\n",
       "      <td>This is the 2nd time we have tried 2 contact u...</td>\n",
       "      <td>spam</td>\n",
       "      <td>160</td>\n",
       "      <td>20</td>\n",
       "      <td>20</td>\n",
       "      <td>NaN</td>\n",
       "      <td>1.000000</td>\n",
       "    </tr>\n",
       "    <tr>\n",
       "      <td>5568</td>\n",
       "      <td>Will ü b going to esplanade fr home?</td>\n",
       "      <td>good</td>\n",
       "      <td>36</td>\n",
       "      <td>6</td>\n",
       "      <td>6</td>\n",
       "      <td>0.007521</td>\n",
       "      <td>NaN</td>\n",
       "    </tr>\n",
       "    <tr>\n",
       "      <td>5569</td>\n",
       "      <td>Pity, * was in mood for that. So...any other s...</td>\n",
       "      <td>good</td>\n",
       "      <td>57</td>\n",
       "      <td>4</td>\n",
       "      <td>4</td>\n",
       "      <td>0.007521</td>\n",
       "      <td>NaN</td>\n",
       "    </tr>\n",
       "    <tr>\n",
       "      <td>5570</td>\n",
       "      <td>The guy did some bitching but I acted like i'd...</td>\n",
       "      <td>good</td>\n",
       "      <td>125</td>\n",
       "      <td>14</td>\n",
       "      <td>14</td>\n",
       "      <td>0.007521</td>\n",
       "      <td>NaN</td>\n",
       "    </tr>\n",
       "    <tr>\n",
       "      <td>5571</td>\n",
       "      <td>Rofl. Its true to its name</td>\n",
       "      <td>good</td>\n",
       "      <td>26</td>\n",
       "      <td>3</td>\n",
       "      <td>3</td>\n",
       "      <td>0.007521</td>\n",
       "      <td>NaN</td>\n",
       "    </tr>\n",
       "  </tbody>\n",
       "</table>\n",
       "<p>5158 rows × 7 columns</p>\n",
       "</div>"
      ],
      "text/plain": [
       "                                                   text label  Char Count  \\\n",
       "0     Go until jurong point, crazy.. Available only ...  good         111   \n",
       "1                         Ok lar... Joking wif u oni...  good          29   \n",
       "2     Free entry in 2 a wkly comp to win FA Cup fina...  spam         155   \n",
       "3     U dun say so early hor... U c already then say...  good          49   \n",
       "4     Nah I don't think he goes to usf, he lives aro...  good          61   \n",
       "...                                                 ...   ...         ...   \n",
       "5567  This is the 2nd time we have tried 2 contact u...  spam         160   \n",
       "5568               Will ü b going to esplanade fr home?  good          36   \n",
       "5569  Pity, * was in mood for that. So...any other s...  good          57   \n",
       "5570  The guy did some bitching but I acted like i'd...  good         125   \n",
       "5571                         Rofl. Its true to its name  good          26   \n",
       "\n",
       "      Word Count  Word Count  Proba_Spam_Train  Proba_Spam_Test  \n",
       "0             16          16          0.007521              NaN  \n",
       "1              6           6               NaN         0.007521  \n",
       "2             23          23          1.000000              NaN  \n",
       "3              9           9          0.007521              NaN  \n",
       "4              8           8          0.007521              NaN  \n",
       "...          ...         ...               ...              ...  \n",
       "5567          20          20               NaN         1.000000  \n",
       "5568           6           6          0.007521              NaN  \n",
       "5569           4           4          0.007521              NaN  \n",
       "5570          14          14          0.007521              NaN  \n",
       "5571           3           3          0.007521              NaN  \n",
       "\n",
       "[5158 rows x 7 columns]"
      ]
     },
     "execution_count": 223,
     "metadata": {},
     "output_type": "execute_result"
    }
   ],
   "source": [
    "#concatenating the columns of texts, labels, Proba_Spam_Train and Proba_Spam_Test\n",
    "Final_op = pd.concat([smsDD_k, prob_train, prob_test], axis = 1)\n",
    "Final_op"
   ]
  },
  {
   "cell_type": "markdown",
   "metadata": {},
   "source": [
    "This does not look neat so let's combine the Proba_Spam_Train and Proba_Spam_Test into a single column."
   ]
  },
  {
   "cell_type": "code",
   "execution_count": 224,
   "metadata": {},
   "outputs": [],
   "source": [
    "#First, replace the NaN with 0.000 float values\n",
    "Final_op[\"Proba_Spam_Train\"] = Final_op[\"Proba_Spam_Train\"].fillna(0).astype('float64')\n",
    "Final_op[\"Proba_Spam_Test\"] = Final_op[\"Proba_Spam_Test\"].fillna(0).astype('float64')\n",
    "\n",
    "#Create a temporary dataframe that holds the sum of the float values\n",
    "a = Final_op[\"Proba_Spam_Train\"].to_frame() #Series need to be converted to a DataFrame\n",
    "b = Final_op[\"Proba_Spam_Test\"].to_frame().reindex(index=a.index)\n",
    "c = pd.concat([a,b], axis = 1)\n",
    "c['Proba_Spam'] = c.sum(axis=1) \n",
    "del c[\"Proba_Spam_Train\"]\n",
    "del c[\"Proba_Spam_Test\"]"
   ]
  },
  {
   "cell_type": "code",
   "execution_count": 221,
   "metadata": {},
   "outputs": [
    {
     "data": {
      "text/html": [
       "<div>\n",
       "<style scoped>\n",
       "    .dataframe tbody tr th:only-of-type {\n",
       "        vertical-align: middle;\n",
       "    }\n",
       "\n",
       "    .dataframe tbody tr th {\n",
       "        vertical-align: top;\n",
       "    }\n",
       "\n",
       "    .dataframe thead th {\n",
       "        text-align: right;\n",
       "    }\n",
       "</style>\n",
       "<table border=\"1\" class=\"dataframe\">\n",
       "  <thead>\n",
       "    <tr style=\"text-align: right;\">\n",
       "      <th></th>\n",
       "      <th>text</th>\n",
       "      <th>label</th>\n",
       "      <th>Char Count</th>\n",
       "      <th>Word Count</th>\n",
       "      <th>Word Count</th>\n",
       "      <th>Proba_Spam</th>\n",
       "    </tr>\n",
       "  </thead>\n",
       "  <tbody>\n",
       "    <tr>\n",
       "      <td>0</td>\n",
       "      <td>Go until jurong point, crazy.. Available only ...</td>\n",
       "      <td>good</td>\n",
       "      <td>111</td>\n",
       "      <td>16</td>\n",
       "      <td>16</td>\n",
       "      <td>0.007521</td>\n",
       "    </tr>\n",
       "    <tr>\n",
       "      <td>1</td>\n",
       "      <td>Ok lar... Joking wif u oni...</td>\n",
       "      <td>good</td>\n",
       "      <td>29</td>\n",
       "      <td>6</td>\n",
       "      <td>6</td>\n",
       "      <td>0.007521</td>\n",
       "    </tr>\n",
       "    <tr>\n",
       "      <td>2</td>\n",
       "      <td>Free entry in 2 a wkly comp to win FA Cup fina...</td>\n",
       "      <td>spam</td>\n",
       "      <td>155</td>\n",
       "      <td>23</td>\n",
       "      <td>23</td>\n",
       "      <td>1.000000</td>\n",
       "    </tr>\n",
       "    <tr>\n",
       "      <td>3</td>\n",
       "      <td>U dun say so early hor... U c already then say...</td>\n",
       "      <td>good</td>\n",
       "      <td>49</td>\n",
       "      <td>9</td>\n",
       "      <td>9</td>\n",
       "      <td>0.007521</td>\n",
       "    </tr>\n",
       "    <tr>\n",
       "      <td>4</td>\n",
       "      <td>Nah I don't think he goes to usf, he lives aro...</td>\n",
       "      <td>good</td>\n",
       "      <td>61</td>\n",
       "      <td>8</td>\n",
       "      <td>8</td>\n",
       "      <td>0.007521</td>\n",
       "    </tr>\n",
       "    <tr>\n",
       "      <td>5</td>\n",
       "      <td>FreeMsg Hey there darling it's been 3 week's n...</td>\n",
       "      <td>spam</td>\n",
       "      <td>147</td>\n",
       "      <td>19</td>\n",
       "      <td>19</td>\n",
       "      <td>1.000000</td>\n",
       "    </tr>\n",
       "    <tr>\n",
       "      <td>6</td>\n",
       "      <td>Even my brother is not like to speak with me. ...</td>\n",
       "      <td>good</td>\n",
       "      <td>77</td>\n",
       "      <td>8</td>\n",
       "      <td>8</td>\n",
       "      <td>0.007521</td>\n",
       "    </tr>\n",
       "    <tr>\n",
       "      <td>7</td>\n",
       "      <td>As per your request 'Melle Melle (Oru Minnamin...</td>\n",
       "      <td>good</td>\n",
       "      <td>160</td>\n",
       "      <td>16</td>\n",
       "      <td>16</td>\n",
       "      <td>0.071429</td>\n",
       "    </tr>\n",
       "    <tr>\n",
       "      <td>8</td>\n",
       "      <td>WINNER!! As a valued network customer you have...</td>\n",
       "      <td>spam</td>\n",
       "      <td>157</td>\n",
       "      <td>18</td>\n",
       "      <td>18</td>\n",
       "      <td>1.000000</td>\n",
       "    </tr>\n",
       "    <tr>\n",
       "      <td>9</td>\n",
       "      <td>Had your mobile 11 months or more? U R entitle...</td>\n",
       "      <td>spam</td>\n",
       "      <td>154</td>\n",
       "      <td>18</td>\n",
       "      <td>18</td>\n",
       "      <td>1.000000</td>\n",
       "    </tr>\n",
       "  </tbody>\n",
       "</table>\n",
       "</div>"
      ],
      "text/plain": [
       "                                                text label  Char Count  \\\n",
       "0  Go until jurong point, crazy.. Available only ...  good         111   \n",
       "1                      Ok lar... Joking wif u oni...  good          29   \n",
       "2  Free entry in 2 a wkly comp to win FA Cup fina...  spam         155   \n",
       "3  U dun say so early hor... U c already then say...  good          49   \n",
       "4  Nah I don't think he goes to usf, he lives aro...  good          61   \n",
       "5  FreeMsg Hey there darling it's been 3 week's n...  spam         147   \n",
       "6  Even my brother is not like to speak with me. ...  good          77   \n",
       "7  As per your request 'Melle Melle (Oru Minnamin...  good         160   \n",
       "8  WINNER!! As a valued network customer you have...  spam         157   \n",
       "9  Had your mobile 11 months or more? U R entitle...  spam         154   \n",
       "\n",
       "   Word Count  Word Count  Proba_Spam  \n",
       "0          16          16    0.007521  \n",
       "1           6           6    0.007521  \n",
       "2          23          23    1.000000  \n",
       "3           9           9    0.007521  \n",
       "4           8           8    0.007521  \n",
       "5          19          19    1.000000  \n",
       "6           8           8    0.007521  \n",
       "7          16          16    0.071429  \n",
       "8          18          18    1.000000  \n",
       "9          18          18    1.000000  "
      ]
     },
     "execution_count": 221,
     "metadata": {},
     "output_type": "execute_result"
    }
   ],
   "source": [
    "#drop the old proba columns\n",
    "del Final_op[\"Proba_Spam_Train\"]\n",
    "del Final_op[\"Proba_Spam_Test\"]\n",
    "\n",
    "#concat the new column to the final dataframe\n",
    "Final_op = pd.concat([Final_op, c], axis=1)\n",
    "Final_op.head(10)"
   ]
  },
  {
   "cell_type": "markdown",
   "metadata": {},
   "source": [
    "There we have it, by using the `.predict_proba()` and summing the values of the former columns 'Proba_Spam_Train' and 'Proba_Spam_Test', I was able to create a neat table showing the probability of each text being a 'spam' as predicted by the Decision Tree Model. "
   ]
  },
  {
   "cell_type": "markdown",
   "metadata": {},
   "source": [
    "# Using Random Forest Classifier for classification of 'good' and 'spam' texts"
   ]
  },
  {
   "cell_type": "markdown",
   "metadata": {},
   "source": [
    "### Training the train set"
   ]
  },
  {
   "cell_type": "code",
   "execution_count": 153,
   "metadata": {},
   "outputs": [
    {
     "data": {
      "text/plain": [
       "<matplotlib.axes._subplots.AxesSubplot at 0x20f8a688108>"
      ]
     },
     "execution_count": 153,
     "metadata": {},
     "output_type": "execute_result"
    },
    {
     "data": {
      "image/png": "[encoded data removed]",
      "text/plain": [
       "<Figure size 576x360 with 2 Axes>"
      ]
     },
     "metadata": {},
     "output_type": "display_data"
    }
   ],
   "source": [
    "#create a random forest classifier object for train set\n",
    "rdf_train = RandomForestClassifier(n_estimators = 100,\n",
    "                                  max_depth = 4)\n",
    "\n",
    "#fit data into random forest object\n",
    "rdf_train.fit(smsBOW_train, spam_train)\n",
    "\n",
    "#predict whether the response value is a 'spam' or 'good'\n",
    "spam_train_pred = rdf_train.predict(smsBOW_train)\n",
    "\n",
    "#visualise with confusion_matrix\n",
    "f,axes = plt.subplots(1,1,figsize=(8,5))\n",
    "sb.heatmap(confusion_matrix(spam_train, spam_train_pred), annot = True, annot_kws = {\"size\":12}, fmt = '.0f')"
   ]
  },
  {
   "cell_type": "code",
   "execution_count": 154,
   "metadata": {},
   "outputs": [
    {
     "name": "stdout",
     "output_type": "stream",
     "text": [
      "Goodness of model:\tTrain data set:\n",
      "Classification accuracy\t 0.9788004136504653\n",
      "\n",
      "True positive rate:\t 0.855\n",
      "True negative rate:\t 0.997\n",
      "False positive rate:\t 0.003\n",
      "False negative rate:\t 0.145\n"
     ]
    }
   ],
   "source": [
    "#calculate classification accuracy\n",
    "print(\"Goodness of model:\\tTrain data set:\")\n",
    "print(\"Classification accuracy\\t\", rdf_train.score(smsBOW_train, spam_train))\n",
    "print()\n",
    "\n",
    "#calculating TPR, TNR, FPR, FNR\n",
    "TP = 426\n",
    "TN = 3360\n",
    "FP = 10\n",
    "FN = 72\n",
    "print(\"True positive rate:\\t\", round(TPR_FNR(TP,FN),3))\n",
    "print(\"True negative rate:\\t\", round(TNR_FPR(TN,FP),3))\n",
    "print(\"False positive rate:\\t\", round(TNR_FPR(FP,TN),3))\n",
    "print(\"False negative rate:\\t\", round(TPR_FNR(FN,TP),3))"
   ]
  },
  {
   "cell_type": "markdown",
   "metadata": {},
   "source": [
    "### Testing the test set"
   ]
  },
  {
   "cell_type": "code",
   "execution_count": 155,
   "metadata": {},
   "outputs": [
    {
     "data": {
      "text/plain": [
       "<matplotlib.axes._subplots.AxesSubplot at 0x20f8c14e088>"
      ]
     },
     "execution_count": 155,
     "metadata": {},
     "output_type": "execute_result"
    },
    {
     "data": {
      "image/png": "[encoded data removed]",
      "text/plain": [
       "<Figure size 576x360 with 2 Axes>"
      ]
     },
     "metadata": {},
     "output_type": "display_data"
    }
   ],
   "source": [
    "#predict whether the response value is a 'spam' or 'good'\n",
    "spam_test_pred = rdf_train.predict(smsBOW_test)\n",
    "\n",
    "#visualise with confusion_matrix\n",
    "f,axes = plt.subplots(1,1,figsize=(8,5))\n",
    "sb.heatmap(confusion_matrix(spam_test, spam_test_pred), annot = True, annot_kws = {\"size\":12}, fmt = '.0f')"
   ]
  },
  {
   "cell_type": "code",
   "execution_count": 156,
   "metadata": {},
   "outputs": [
    {
     "name": "stdout",
     "output_type": "stream",
     "text": [
      "Goodness of model:\tTest data set:\n",
      "Classification accuracy\t 0.9705426356589147\n",
      "\n",
      "True positive rate:\t 0.778\n",
      "True negative rate:\t 0.995\n",
      "False positive rate:\t 0.005\n",
      "False negative rate:\t 0.222\n"
     ]
    }
   ],
   "source": [
    "#calculate classification accuracy\n",
    "print(\"Goodness of model:\\tTest data set:\")\n",
    "print(\"Classification accuracy\\t\", rdf_train.score(smsBOW_test, spam_test))\n",
    "print()\n",
    "\n",
    "#calculating TPR, TNR, FPR, FNR\n",
    "TP = 112\n",
    "TN = 1140\n",
    "FP = 6\n",
    "FN = 32\n",
    "print(\"True positive rate:\\t\", round(TPR_FNR(TP,FN),3))\n",
    "print(\"True negative rate:\\t\", round(TNR_FPR(TN,FP),3))\n",
    "print(\"False positive rate:\\t\", round(TNR_FPR(FP,TN),3))\n",
    "print(\"False negative rate:\\t\", round(TPR_FNR(FN,TP),3))"
   ]
  },
  {
   "cell_type": "markdown",
   "metadata": {},
   "source": [
    "## Conclusion:\n",
    "In terms of Decision Tree classification, the accuracy of the model using only tokenised words as variables was 96.7% while that of the model using multiple variables was 97.0%, indicating a mere 0.3% increase in accuracy rate. This illustrates that the most significant variable in predicting whether a text was 'spam' or 'good' was the collection of stemmed, lemmatised and tokenised bag of words. Variables such as frequency of each word, total number of characters and words in each text did not play as huge a role in enhancing the accuracy of the prediction. \n",
    "\n",
    "In terms of Random Forest classification, similarly the accuracy of the model using only tokenised words as variables was 96.8% while that of the model using multiple variables was 97.1%, indicating only a 0.3% improvement in accuracy rate. This again emphasises the major role the collection of stemmed, lemmatised and tokenised bag of words play in making accurate predictions of a message being a 'spam' or 'good'. \n",
    "\n",
    "On the whole, Random Forest performed slightly better than Decision Tree and together with the lower level of bias in the Random Forest model, it would be best to employ Random Forest Classification when predicting future 'spam' messages from the 'good' ones. "
   ]
  },
  {
   "cell_type": "markdown",
   "metadata": {},
   "source": [
    "# Reference(s):\n",
    "For CountVectorizer and tokenising words: \n",
    "https://www.youtube.com/watch?v=cNLPt02RwF0&t=729s\n",
    "\n"
   ]
  },
  {
   "cell_type": "markdown",
   "metadata": {},
   "source": [
    "For renaming columns: https://stackoverflow.com/questions/11346283/renaming-columns-in-pandas\n",
    "\n",
    "For Lemmatisation: https://stackoverflow.com/questions/47557563/lemmatization-of-all-pandas-cells\n",
    "\n",
    "For Stemming: https://stackoverflow.com/questions/12974045/porterstemmer-doesnt-seem-to-work\n",
    "\n",
    "For deleting columns: https://stackoverflow.com/questions/13411544/delete-column-from-pandas-dataframe\n",
    "\n",
    "For adding values between 2 dataframes:\n",
    "https://stackoverflow.com/questions/25748683/pandas-sum-dataframe-rows-for-given-columns\n",
    "\n",
    "For conversion of Series to DataFrame: \n",
    "https://www.geeksforgeeks.org/python-pandas-series-to_frame/\n",
    "\n",
    "Decision Tree and Random Forest:\n",
    "https://towardsdatascience.com/an-implementation-and-explanation-of-the-random-forest-in-python-77bf308a9b76"
   ]
  }
 ],
 "metadata": {
  "kernelspec": {
   "display_name": "Python 3",
   "language": "python",
   "name": "python3"
  },
  "language_info": {
   "codemirror_mode": {
    "name": "ipython",
    "version": 3
   },
   "file_extension": ".py",
   "mimetype": "text/x-python",
   "name": "python",
   "nbconvert_exporter": "python",
   "pygments_lexer": "ipython3",
   "version": "3.7.4"
  }
 },
 "nbformat": 4,
 "nbformat_minor": 2
}
